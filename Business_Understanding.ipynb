{
  "nbformat": 4,
  "nbformat_minor": 0,
  "metadata": {
    "colab": {
      "provenance": []
    },
    "kernelspec": {
      "name": "python3",
      "display_name": "Python 3"
    },
    "language_info": {
      "name": "python"
    }
  },
  "cells": [
    {
      "cell_type": "markdown",
      "source": [
        "# **PREFERENSI PENONTON DRAMA KOREA DI SELURUH DUNIA**\n",
        "## **Business Understanding**\n",
        "### **Business Objective**\n",
        "Tujuan dari dataset ini adalah untuk menganalisis preferensi penonton drama Korea di seluruh dunia dengan menggunakan \"Top 250 Korean Dramas (KDrama)\". Serta ingin mengetahui tren preferensi penonton drama Korea, serta menghasilkan informasi tentang genre, tahun rilis, dan actor/actress yang paling populer di antara drama Korea teratas berdasarkan preferensi penonton.\n",
        "Selain itu, studi kasus ini juga akan menentukan perbandingan antara drama Korea dengan drama lainnya dalam memanfaatkan preferensi penonton. Hasil dari studi kasus ini dapat digunakan oleh perusahaan-perusahaan yang bergerak di industri hiburan, sehingga mereka dapat memahami tren dan pola preferensi penonton, dan mengembangkan strategi pemasaran yang lebih efektif. Selain itu, hasil dari studi kasus ini juga dapat digunakan oleh pemerintah atau lembaga pemerintahan untuk mengembangkan strategi promosi dan pengembangan budaya drama Korea di seluruh dunia.\n",
        "\n",
        "### **Assess Situation**\n",
        "Situasi saat ini adalah bahwa drama Korea menjadi fenomena global yang dinikmati oleh banyak orang di seluruh dunia. Namun, masih kurang diketahui tentang preferensi penonton drama Korea di seluruh dunia. Selain itu, perusahaan-perusahaan yang bergerak di industri hiburan ingin memanfaatkan preferensi penonton drama Korea dalam mempromosikan dan mendistribusikan drama Korea. Selain itu, pemerintah atau lembaga pemerintahan juga ingin mengembangkan strategi promosi dan pengembangan budaya drama Korea di seluruh dunia.\n",
        "### **Data Mining Goals**\n",
        "Tujuan dari data mining dalam studi kasus ini adalah untuk menemukan tren preferensi penonton drama Korea di seluruh dunia, faktor-faktor yang mempengaruhi preferensi penonton drama Korea, pengaruh kampanye promosi dan distribusi drama Korea terhadap preferensi penonton, dan perbandingan antara drama Korea dengan drama lainnya dalam memanfaatkan preferensi penonton. Selain itu, data mining juga akan menghasilkan informasi tentang genre, tahun rilis, dan actor/actress yang paling populer di antara drama Korea teratas berdasarkan preferensi penonton.\n",
        "### **Project Plan**\n",
        "Studi kasus ini akan dimulai dengan melakukan pembersihan dan pengolahan data dari dataset \"Top 250 Korean Dramas (KDrama)\". Selanjutnya, akan dilakukan analisis data menggunakan teknik-teknik data mining, seperti analisis cluster, analisis regresi, dan lain-lain. Hasil dari analisis data akan ditampilkan dalam bentuk visualisasi data, seperti grafik, diagram, dan lain-lain. Selain itu, hasil dari studi kasus ini akan disusun dalam bentuk laporan yang rinci dan mudah dipahami.\n"
      ],
      "metadata": {
        "id": "Zjh4wmmtckUT"
      }
    }
  ]
}