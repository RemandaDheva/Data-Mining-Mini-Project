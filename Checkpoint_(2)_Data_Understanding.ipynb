{
  "nbformat": 4,
  "nbformat_minor": 0,
  "metadata": {
    "colab": {
      "provenance": [],
      "collapsed_sections": [
        "QV01fCu9P3Z4",
        "g6OPI8jqQOcx",
        "8_mWwQS-RwL5",
        "Q77SN74nSN_K",
        "Z6Ic4fhUSavs",
        "26qtAR3MSicY",
        "P3nMxyeESnOr",
        "ynUkqjT_TLuZ",
        "kZ7Y41rI7zQu",
        "p1R9RJzR79FA",
        "EpKMC_SI8BJs",
        "OPuZDNmH8DXn",
        "hJnNJVLPFVk7"
      ]
    },
    "kernelspec": {
      "name": "python3",
      "display_name": "Python 3"
    },
    "language_info": {
      "name": "python"
    }
  },
  "cells": [
    {
      "cell_type": "markdown",
      "source": [
        "#**ANALISIS PREFERENSI PENONTON DRAMA KOREA DI SELURUH DUNIA**"
      ],
      "metadata": {
        "id": "rsaLqE7pPTKp"
      }
    },
    {
      "cell_type": "markdown",
      "source": [
        "# **Import Library**"
      ],
      "metadata": {
        "id": "QV01fCu9P3Z4"
      }
    },
    {
      "cell_type": "code",
      "source": [
        "import pandas as pd\n",
        "import matplotlib.pyplot as plt\n",
        "import seaborn as sns\n",
        "import plotly.express as px"
      ],
      "metadata": {
        "id": "xvuNzhAPQJ_G"
      },
      "execution_count": 36,
      "outputs": []
    },
    {
      "cell_type": "markdown",
      "source": [
        "# **BUSINESS UNDERSTANDING**"
      ],
      "metadata": {
        "id": "g6OPI8jqQOcx"
      }
    },
    {
      "cell_type": "markdown",
      "source": [
        "## **Business Objective**"
      ],
      "metadata": {
        "id": "dt980HvNQjU6"
      }
    },
    {
      "cell_type": "markdown",
      "source": [
        "Tujuan dari dataset ini adalah untuk menganalisis preferensi penonton drama Korea di seluruh dunia dengan menggunakan \"Top 250 Korean Dramas (KDrama)\". Serta ingin mengetahui tren preferensi penonton drama Korea, serta menghasilkan informasi tentang genre, tahun rilis, dan actor/actress yang paling populer di antara drama Korea teratas berdasarkan preferensi penonton.\n",
        "Selain itu, studi kasus ini juga akan menentukan perbandingan antara drama Korea dengan drama lainnya dalam memanfaatkan preferensi penonton. Hasil dari studi kasus ini dapat digunakan oleh perusahaan-perusahaan yang bergerak di industri hiburan, sehingga mereka dapat memahami tren dan pola preferensi penonton, dan mengembangkan strategi pemasaran yang lebih efektif. Selain itu, hasil dari studi kasus ini juga dapat digunakan oleh pemerintah atau lembaga pemerintahan untuk mengembangkan strategi promosi dan pengembangan budaya drama Korea di seluruh dunia."
      ],
      "metadata": {
        "id": "f5KbebTqQ9aY"
      }
    },
    {
      "cell_type": "markdown",
      "source": [
        "##**Assess Situation**"
      ],
      "metadata": {
        "id": "P6aHP18zQ_D1"
      }
    },
    {
      "cell_type": "markdown",
      "source": [
        "Situasi saat ini adalah bahwa drama Korea menjadi fenomena global yang dinikmati oleh banyak orang di seluruh dunia. Namun, masih kurang diketahui tentang preferensi penonton drama Korea di seluruh dunia. Selain itu, perusahaan-perusahaan yang bergerak di industri hiburan ingin memanfaatkan preferensi penonton drama Korea dalam mempromosikan dan mendistribusikan drama Korea. Selain itu, pemerintah atau lembaga pemerintahan juga ingin mengembangkan strategi promosi dan pengembangan budaya drama Korea di seluruh dunia."
      ],
      "metadata": {
        "id": "WFLO9-o9RI2p"
      }
    },
    {
      "cell_type": "markdown",
      "source": [
        "## **Data Mining Goals**"
      ],
      "metadata": {
        "id": "k9r0b1iWRKfj"
      }
    },
    {
      "cell_type": "markdown",
      "source": [
        "Tujuan dari data mining dalam studi kasus ini adalah untuk menemukan tren preferensi penonton drama Korea di seluruh dunia, faktor-faktor yang mempengaruhi preferensi penonton drama Korea, pengaruh promosi dan distribusi drama Korea terhadap preferensi penonton, dan perbandingan antara drama Korea dengan drama lainnya dalam memanfaatkan preferensi penonton. Selain itu, data mining juga akan menghasilkan informasi tentang genre, tahun rilis, dan actor/actress yang paling populer di antara drama Korea teratas berdasarkan preferensi penonton."
      ],
      "metadata": {
        "id": "OY0ziAk4RQTf"
      }
    },
    {
      "cell_type": "markdown",
      "source": [
        "## **Project Plan**"
      ],
      "metadata": {
        "id": "2A-LYewhRall"
      }
    },
    {
      "cell_type": "markdown",
      "source": [
        "Studi kasus ini akan dimulai dengan melakukan pembersihan dan pengolahan data dari dataset \"Top 250 Korean Dramas (KDrama)\". Selanjutnya, akan dilakukan analisis data menggunakan teknik-teknik data mining, seperti analisis cluster, analisis regresi, dan lain-lain. Hasil dari analisis data akan ditampilkan dalam bentuk visualisasi data, seperti grafik, diagram, dan lain-lain. Selain itu, hasil dari studi kasus ini akan disusun dalam bentuk laporan yang rinci dan mudah dipahami."
      ],
      "metadata": {
        "id": "o8g4bQg0Rm0i"
      }
    },
    {
      "cell_type": "markdown",
      "source": [
        "#**Data Understanding**"
      ],
      "metadata": {
        "id": "jsD_rv2iRrzU"
      }
    },
    {
      "cell_type": "markdown",
      "source": [
        "##**Collect Initial Data**"
      ],
      "metadata": {
        "id": "8_mWwQS-RwL5"
      }
    },
    {
      "cell_type": "markdown",
      "source": [
        "Data yang saya gunakan berasal dari dataset **Top 250 Korean Dramas (KDrama)** yang tersedia di Kaggle. Dataset ini dibuat oleh **ahbab911** dan berisi informasi tentang 250 drama Korea terpopuler. Dataset ini berisi data dari 250 Drama Korea teratas berdasarkan peringkat di situs web MyDramaList. Data telah dikumpulkan dan diunggah dalam bentuk file CSV dan dapat digunakan untuk mengerjakan berbagai Proyek Sains Data. File CSV memiliki 17 kolom dan 251 baris yang sebagian besar berisi data tekstual.\n",
        "\n",
        "Link: https://www.kaggle.com/datasets/ahbab911/top-250-korean-dramas-kdrama-dataset"
      ],
      "metadata": {
        "id": "Nj1137v-SDc9"
      }
    },
    {
      "cell_type": "code",
      "source": [
        "DATA_URL = 'https://raw.githubusercontent.com/RemandaDheva/Data-Mining-Mini-Project/main/kdrama.csv'"
      ],
      "metadata": {
        "id": "jz4YgyRRSE_N"
      },
      "execution_count": 5,
      "outputs": []
    },
    {
      "cell_type": "code",
      "source": [
        "df = pd.read_csv(DATA_URL)\n",
        "df.head()"
      ],
      "metadata": {
        "colab": {
          "base_uri": "https://localhost:8080/",
          "height": 1000
        },
        "id": "OFMYILvxZBjI",
        "outputId": "9640cc33-6ebf-4b2d-ba35-7de58846e8bb"
      },
      "execution_count": 6,
      "outputs": [
        {
          "output_type": "execute_result",
          "data": {
            "text/plain": [
              "                  Name                   Aired Date  Year of release  \\\n",
              "0       Move to Heaven                 May 14, 2021             2021   \n",
              "1       Flower of Evil  Jul 29, 2020 - Sep 23, 2020             2020   \n",
              "2    Hospital Playlist  Mar 12, 2020 - May 28, 2020             2020   \n",
              "3  Hospital Playlist 2  Jun 17, 2021 - Sep 16, 2021             2021   \n",
              "4            My Mister  Mar 21, 2018 - May 17, 2018             2018   \n",
              "\n",
              "  Original Network              Aired On  Number of Episodes       Duration  \\\n",
              "0          Netflix                Friday                  10        52 min.   \n",
              "1              tvN   Wednesday, Thursday                  16  1 hr. 10 min.   \n",
              "2   Netflix,  tvN               Thursday                  12  1 hr. 30 min.   \n",
              "3   Netflix,  tvN               Thursday                  12  1 hr. 40 min.   \n",
              "4              tvN   Wednesday, Thursday                  16  1 hr. 17 min.   \n",
              "\n",
              "                          Content Rating  Rating  \\\n",
              "0  18+ Restricted (violence & profanity)     9.2   \n",
              "1                15+ - Teens 15 or older     9.1   \n",
              "2                15+ - Teens 15 or older     9.1   \n",
              "3                15+ - Teens 15 or older     9.1   \n",
              "4                15+ - Teens 15 or older     9.1   \n",
              "\n",
              "                                            Synopsis  \\\n",
              "0  Geu Roo is a young autistic man. He works for ...   \n",
              "1  Although Baek Hee Sung is hiding a dark secret...   \n",
              "2  The stories of people going through their days...   \n",
              "3  Everyday is extraordinary for five doctors and...   \n",
              "4  Park Dong Hoon is a middle-aged engineer who i...   \n",
              "\n",
              "                                     Genre  \\\n",
              "0                   Life,  Drama,  Family    \n",
              "1  Thriller,  Romance,  Crime,  Melodrama    \n",
              "2   Friendship,  Romance,  Life,  Medical    \n",
              "3   Friendship,  Romance,  Life,  Medical    \n",
              "4   Psychological,  Life,  Drama,  Family    \n",
              "\n",
              "                                                Tags  \\\n",
              "0  Autism, Uncle-Nephew Relationship, Death, Sava...   \n",
              "1  Married Couple, Deception, Suspense, Family Se...   \n",
              "2  Strong Friendship, Multiple Mains, Best Friend...   \n",
              "3  Workplace, Strong Friendship, Best Friends, Mu...   \n",
              "4  Age Gap, Nice Male Lead, Strong Female Lead, H...   \n",
              "\n",
              "                     Director    Screenwriter  \\\n",
              "0                 Kim Sung Ho    Yoon Ji Ryun   \n",
              "1  Kim Chul Gyu, Yoon Jong Ho    Yoo Jung Hee   \n",
              "2                 Shin Won Ho    Lee Woo Jung   \n",
              "3                 Shin Won Ho    Lee Woo Jung   \n",
              "4   Kim Won Suk, Kim Sang Woo  Park Hae Young   \n",
              "\n",
              "                                                Cast  \\\n",
              "0  Lee Je Hoon, Tang Jun Sang, Hong Seung Hee, Ju...   \n",
              "1  Lee Joon Gi, Moon Chae Won, Jang Hee Jin, Seo ...   \n",
              "2  Jo Jung Suk, Yoo Yeon Seok, Jung Kyung Ho, Kim...   \n",
              "3  Jo Jung Suk, Yoo Yeon Seok, Jung Kyung Ho, Kim...   \n",
              "4  Lee Sun Kyun, IU, Park Ho San, Song Sae Byuk, ...   \n",
              "\n",
              "                   Production companies Rank  \n",
              "0  Page One Film, Number Three Pictures   #1  \n",
              "1                         Monster Union   #2  \n",
              "2                 Egg Is Coming, CJ ENM   #3  \n",
              "3                 Egg Is Coming, CJ ENM   #4  \n",
              "4                      Chorokbaem Media   #5  "
            ],
            "text/html": [
              "\n",
              "  <div id=\"df-e74fc56b-d526-4cf6-8a5b-5e7d73d2a5ef\" class=\"colab-df-container\">\n",
              "    <div>\n",
              "<style scoped>\n",
              "    .dataframe tbody tr th:only-of-type {\n",
              "        vertical-align: middle;\n",
              "    }\n",
              "\n",
              "    .dataframe tbody tr th {\n",
              "        vertical-align: top;\n",
              "    }\n",
              "\n",
              "    .dataframe thead th {\n",
              "        text-align: right;\n",
              "    }\n",
              "</style>\n",
              "<table border=\"1\" class=\"dataframe\">\n",
              "  <thead>\n",
              "    <tr style=\"text-align: right;\">\n",
              "      <th></th>\n",
              "      <th>Name</th>\n",
              "      <th>Aired Date</th>\n",
              "      <th>Year of release</th>\n",
              "      <th>Original Network</th>\n",
              "      <th>Aired On</th>\n",
              "      <th>Number of Episodes</th>\n",
              "      <th>Duration</th>\n",
              "      <th>Content Rating</th>\n",
              "      <th>Rating</th>\n",
              "      <th>Synopsis</th>\n",
              "      <th>Genre</th>\n",
              "      <th>Tags</th>\n",
              "      <th>Director</th>\n",
              "      <th>Screenwriter</th>\n",
              "      <th>Cast</th>\n",
              "      <th>Production companies</th>\n",
              "      <th>Rank</th>\n",
              "    </tr>\n",
              "  </thead>\n",
              "  <tbody>\n",
              "    <tr>\n",
              "      <th>0</th>\n",
              "      <td>Move to Heaven</td>\n",
              "      <td>May 14, 2021</td>\n",
              "      <td>2021</td>\n",
              "      <td>Netflix</td>\n",
              "      <td>Friday</td>\n",
              "      <td>10</td>\n",
              "      <td>52 min.</td>\n",
              "      <td>18+ Restricted (violence &amp; profanity)</td>\n",
              "      <td>9.2</td>\n",
              "      <td>Geu Roo is a young autistic man. He works for ...</td>\n",
              "      <td>Life,  Drama,  Family</td>\n",
              "      <td>Autism, Uncle-Nephew Relationship, Death, Sava...</td>\n",
              "      <td>Kim Sung Ho</td>\n",
              "      <td>Yoon Ji Ryun</td>\n",
              "      <td>Lee Je Hoon, Tang Jun Sang, Hong Seung Hee, Ju...</td>\n",
              "      <td>Page One Film, Number Three Pictures</td>\n",
              "      <td>#1</td>\n",
              "    </tr>\n",
              "    <tr>\n",
              "      <th>1</th>\n",
              "      <td>Flower of Evil</td>\n",
              "      <td>Jul 29, 2020 - Sep 23, 2020</td>\n",
              "      <td>2020</td>\n",
              "      <td>tvN</td>\n",
              "      <td>Wednesday, Thursday</td>\n",
              "      <td>16</td>\n",
              "      <td>1 hr. 10 min.</td>\n",
              "      <td>15+ - Teens 15 or older</td>\n",
              "      <td>9.1</td>\n",
              "      <td>Although Baek Hee Sung is hiding a dark secret...</td>\n",
              "      <td>Thriller,  Romance,  Crime,  Melodrama</td>\n",
              "      <td>Married Couple, Deception, Suspense, Family Se...</td>\n",
              "      <td>Kim Chul Gyu, Yoon Jong Ho</td>\n",
              "      <td>Yoo Jung Hee</td>\n",
              "      <td>Lee Joon Gi, Moon Chae Won, Jang Hee Jin, Seo ...</td>\n",
              "      <td>Monster Union</td>\n",
              "      <td>#2</td>\n",
              "    </tr>\n",
              "    <tr>\n",
              "      <th>2</th>\n",
              "      <td>Hospital Playlist</td>\n",
              "      <td>Mar 12, 2020 - May 28, 2020</td>\n",
              "      <td>2020</td>\n",
              "      <td>Netflix,  tvN</td>\n",
              "      <td>Thursday</td>\n",
              "      <td>12</td>\n",
              "      <td>1 hr. 30 min.</td>\n",
              "      <td>15+ - Teens 15 or older</td>\n",
              "      <td>9.1</td>\n",
              "      <td>The stories of people going through their days...</td>\n",
              "      <td>Friendship,  Romance,  Life,  Medical</td>\n",
              "      <td>Strong Friendship, Multiple Mains, Best Friend...</td>\n",
              "      <td>Shin Won Ho</td>\n",
              "      <td>Lee Woo Jung</td>\n",
              "      <td>Jo Jung Suk, Yoo Yeon Seok, Jung Kyung Ho, Kim...</td>\n",
              "      <td>Egg Is Coming, CJ ENM</td>\n",
              "      <td>#3</td>\n",
              "    </tr>\n",
              "    <tr>\n",
              "      <th>3</th>\n",
              "      <td>Hospital Playlist 2</td>\n",
              "      <td>Jun 17, 2021 - Sep 16, 2021</td>\n",
              "      <td>2021</td>\n",
              "      <td>Netflix,  tvN</td>\n",
              "      <td>Thursday</td>\n",
              "      <td>12</td>\n",
              "      <td>1 hr. 40 min.</td>\n",
              "      <td>15+ - Teens 15 or older</td>\n",
              "      <td>9.1</td>\n",
              "      <td>Everyday is extraordinary for five doctors and...</td>\n",
              "      <td>Friendship,  Romance,  Life,  Medical</td>\n",
              "      <td>Workplace, Strong Friendship, Best Friends, Mu...</td>\n",
              "      <td>Shin Won Ho</td>\n",
              "      <td>Lee Woo Jung</td>\n",
              "      <td>Jo Jung Suk, Yoo Yeon Seok, Jung Kyung Ho, Kim...</td>\n",
              "      <td>Egg Is Coming, CJ ENM</td>\n",
              "      <td>#4</td>\n",
              "    </tr>\n",
              "    <tr>\n",
              "      <th>4</th>\n",
              "      <td>My Mister</td>\n",
              "      <td>Mar 21, 2018 - May 17, 2018</td>\n",
              "      <td>2018</td>\n",
              "      <td>tvN</td>\n",
              "      <td>Wednesday, Thursday</td>\n",
              "      <td>16</td>\n",
              "      <td>1 hr. 17 min.</td>\n",
              "      <td>15+ - Teens 15 or older</td>\n",
              "      <td>9.1</td>\n",
              "      <td>Park Dong Hoon is a middle-aged engineer who i...</td>\n",
              "      <td>Psychological,  Life,  Drama,  Family</td>\n",
              "      <td>Age Gap, Nice Male Lead, Strong Female Lead, H...</td>\n",
              "      <td>Kim Won Suk, Kim Sang Woo</td>\n",
              "      <td>Park Hae Young</td>\n",
              "      <td>Lee Sun Kyun, IU, Park Ho San, Song Sae Byuk, ...</td>\n",
              "      <td>Chorokbaem Media</td>\n",
              "      <td>#5</td>\n",
              "    </tr>\n",
              "  </tbody>\n",
              "</table>\n",
              "</div>\n",
              "    <div class=\"colab-df-buttons\">\n",
              "\n",
              "  <div class=\"colab-df-container\">\n",
              "    <button class=\"colab-df-convert\" onclick=\"convertToInteractive('df-e74fc56b-d526-4cf6-8a5b-5e7d73d2a5ef')\"\n",
              "            title=\"Convert this dataframe to an interactive table.\"\n",
              "            style=\"display:none;\">\n",
              "\n",
              "  <svg xmlns=\"http://www.w3.org/2000/svg\" height=\"24px\" viewBox=\"0 -960 960 960\">\n",
              "    <path d=\"M120-120v-720h720v720H120Zm60-500h600v-160H180v160Zm220 220h160v-160H400v160Zm0 220h160v-160H400v160ZM180-400h160v-160H180v160Zm440 0h160v-160H620v160ZM180-180h160v-160H180v160Zm440 0h160v-160H620v160Z\"/>\n",
              "  </svg>\n",
              "    </button>\n",
              "\n",
              "  <style>\n",
              "    .colab-df-container {\n",
              "      display:flex;\n",
              "      gap: 12px;\n",
              "    }\n",
              "\n",
              "    .colab-df-convert {\n",
              "      background-color: #E8F0FE;\n",
              "      border: none;\n",
              "      border-radius: 50%;\n",
              "      cursor: pointer;\n",
              "      display: none;\n",
              "      fill: #1967D2;\n",
              "      height: 32px;\n",
              "      padding: 0 0 0 0;\n",
              "      width: 32px;\n",
              "    }\n",
              "\n",
              "    .colab-df-convert:hover {\n",
              "      background-color: #E2EBFA;\n",
              "      box-shadow: 0px 1px 2px rgba(60, 64, 67, 0.3), 0px 1px 3px 1px rgba(60, 64, 67, 0.15);\n",
              "      fill: #174EA6;\n",
              "    }\n",
              "\n",
              "    .colab-df-buttons div {\n",
              "      margin-bottom: 4px;\n",
              "    }\n",
              "\n",
              "    [theme=dark] .colab-df-convert {\n",
              "      background-color: #3B4455;\n",
              "      fill: #D2E3FC;\n",
              "    }\n",
              "\n",
              "    [theme=dark] .colab-df-convert:hover {\n",
              "      background-color: #434B5C;\n",
              "      box-shadow: 0px 1px 3px 1px rgba(0, 0, 0, 0.15);\n",
              "      filter: drop-shadow(0px 1px 2px rgba(0, 0, 0, 0.3));\n",
              "      fill: #FFFFFF;\n",
              "    }\n",
              "  </style>\n",
              "\n",
              "    <script>\n",
              "      const buttonEl =\n",
              "        document.querySelector('#df-e74fc56b-d526-4cf6-8a5b-5e7d73d2a5ef button.colab-df-convert');\n",
              "      buttonEl.style.display =\n",
              "        google.colab.kernel.accessAllowed ? 'block' : 'none';\n",
              "\n",
              "      async function convertToInteractive(key) {\n",
              "        const element = document.querySelector('#df-e74fc56b-d526-4cf6-8a5b-5e7d73d2a5ef');\n",
              "        const dataTable =\n",
              "          await google.colab.kernel.invokeFunction('convertToInteractive',\n",
              "                                                    [key], {});\n",
              "        if (!dataTable) return;\n",
              "\n",
              "        const docLinkHtml = 'Like what you see? Visit the ' +\n",
              "          '<a target=\"_blank\" href=https://colab.research.google.com/notebooks/data_table.ipynb>data table notebook</a>'\n",
              "          + ' to learn more about interactive tables.';\n",
              "        element.innerHTML = '';\n",
              "        dataTable['output_type'] = 'display_data';\n",
              "        await google.colab.output.renderOutput(dataTable, element);\n",
              "        const docLink = document.createElement('div');\n",
              "        docLink.innerHTML = docLinkHtml;\n",
              "        element.appendChild(docLink);\n",
              "      }\n",
              "    </script>\n",
              "  </div>\n",
              "\n",
              "\n",
              "<div id=\"df-2b5d2a3b-98d1-40e7-a2ae-4a0a8587fefe\">\n",
              "  <button class=\"colab-df-quickchart\" onclick=\"quickchart('df-2b5d2a3b-98d1-40e7-a2ae-4a0a8587fefe')\"\n",
              "            title=\"Suggest charts\"\n",
              "            style=\"display:none;\">\n",
              "\n",
              "<svg xmlns=\"http://www.w3.org/2000/svg\" height=\"24px\"viewBox=\"0 0 24 24\"\n",
              "     width=\"24px\">\n",
              "    <g>\n",
              "        <path d=\"M19 3H5c-1.1 0-2 .9-2 2v14c0 1.1.9 2 2 2h14c1.1 0 2-.9 2-2V5c0-1.1-.9-2-2-2zM9 17H7v-7h2v7zm4 0h-2V7h2v10zm4 0h-2v-4h2v4z\"/>\n",
              "    </g>\n",
              "</svg>\n",
              "  </button>\n",
              "\n",
              "<style>\n",
              "  .colab-df-quickchart {\n",
              "      --bg-color: #E8F0FE;\n",
              "      --fill-color: #1967D2;\n",
              "      --hover-bg-color: #E2EBFA;\n",
              "      --hover-fill-color: #174EA6;\n",
              "      --disabled-fill-color: #AAA;\n",
              "      --disabled-bg-color: #DDD;\n",
              "  }\n",
              "\n",
              "  [theme=dark] .colab-df-quickchart {\n",
              "      --bg-color: #3B4455;\n",
              "      --fill-color: #D2E3FC;\n",
              "      --hover-bg-color: #434B5C;\n",
              "      --hover-fill-color: #FFFFFF;\n",
              "      --disabled-bg-color: #3B4455;\n",
              "      --disabled-fill-color: #666;\n",
              "  }\n",
              "\n",
              "  .colab-df-quickchart {\n",
              "    background-color: var(--bg-color);\n",
              "    border: none;\n",
              "    border-radius: 50%;\n",
              "    cursor: pointer;\n",
              "    display: none;\n",
              "    fill: var(--fill-color);\n",
              "    height: 32px;\n",
              "    padding: 0;\n",
              "    width: 32px;\n",
              "  }\n",
              "\n",
              "  .colab-df-quickchart:hover {\n",
              "    background-color: var(--hover-bg-color);\n",
              "    box-shadow: 0 1px 2px rgba(60, 64, 67, 0.3), 0 1px 3px 1px rgba(60, 64, 67, 0.15);\n",
              "    fill: var(--button-hover-fill-color);\n",
              "  }\n",
              "\n",
              "  .colab-df-quickchart-complete:disabled,\n",
              "  .colab-df-quickchart-complete:disabled:hover {\n",
              "    background-color: var(--disabled-bg-color);\n",
              "    fill: var(--disabled-fill-color);\n",
              "    box-shadow: none;\n",
              "  }\n",
              "\n",
              "  .colab-df-spinner {\n",
              "    border: 2px solid var(--fill-color);\n",
              "    border-color: transparent;\n",
              "    border-bottom-color: var(--fill-color);\n",
              "    animation:\n",
              "      spin 1s steps(1) infinite;\n",
              "  }\n",
              "\n",
              "  @keyframes spin {\n",
              "    0% {\n",
              "      border-color: transparent;\n",
              "      border-bottom-color: var(--fill-color);\n",
              "      border-left-color: var(--fill-color);\n",
              "    }\n",
              "    20% {\n",
              "      border-color: transparent;\n",
              "      border-left-color: var(--fill-color);\n",
              "      border-top-color: var(--fill-color);\n",
              "    }\n",
              "    30% {\n",
              "      border-color: transparent;\n",
              "      border-left-color: var(--fill-color);\n",
              "      border-top-color: var(--fill-color);\n",
              "      border-right-color: var(--fill-color);\n",
              "    }\n",
              "    40% {\n",
              "      border-color: transparent;\n",
              "      border-right-color: var(--fill-color);\n",
              "      border-top-color: var(--fill-color);\n",
              "    }\n",
              "    60% {\n",
              "      border-color: transparent;\n",
              "      border-right-color: var(--fill-color);\n",
              "    }\n",
              "    80% {\n",
              "      border-color: transparent;\n",
              "      border-right-color: var(--fill-color);\n",
              "      border-bottom-color: var(--fill-color);\n",
              "    }\n",
              "    90% {\n",
              "      border-color: transparent;\n",
              "      border-bottom-color: var(--fill-color);\n",
              "    }\n",
              "  }\n",
              "</style>\n",
              "\n",
              "  <script>\n",
              "    async function quickchart(key) {\n",
              "      const quickchartButtonEl =\n",
              "        document.querySelector('#' + key + ' button');\n",
              "      quickchartButtonEl.disabled = true;  // To prevent multiple clicks.\n",
              "      quickchartButtonEl.classList.add('colab-df-spinner');\n",
              "      try {\n",
              "        const charts = await google.colab.kernel.invokeFunction(\n",
              "            'suggestCharts', [key], {});\n",
              "      } catch (error) {\n",
              "        console.error('Error during call to suggestCharts:', error);\n",
              "      }\n",
              "      quickchartButtonEl.classList.remove('colab-df-spinner');\n",
              "      quickchartButtonEl.classList.add('colab-df-quickchart-complete');\n",
              "    }\n",
              "    (() => {\n",
              "      let quickchartButtonEl =\n",
              "        document.querySelector('#df-2b5d2a3b-98d1-40e7-a2ae-4a0a8587fefe button');\n",
              "      quickchartButtonEl.style.display =\n",
              "        google.colab.kernel.accessAllowed ? 'block' : 'none';\n",
              "    })();\n",
              "  </script>\n",
              "</div>\n",
              "    </div>\n",
              "  </div>\n"
            ],
            "application/vnd.google.colaboratory.intrinsic+json": {
              "type": "dataframe",
              "variable_name": "df",
              "summary": "{\n  \"name\": \"df\",\n  \"rows\": 250,\n  \"fields\": [\n    {\n      \"column\": \"Name\",\n      \"properties\": {\n        \"dtype\": \"string\",\n        \"num_unique_values\": 250,\n        \"samples\": [\n          \"I'm Not a Robot\",\n          \"Weak Hero Class 1\",\n          \"365\"\n        ],\n        \"semantic_type\": \"\",\n        \"description\": \"\"\n      }\n    },\n    {\n      \"column\": \"Aired Date\",\n      \"properties\": {\n        \"dtype\": \"string\",\n        \"num_unique_values\": 248,\n        \"samples\": [\n          \"Oct 26, 2020 - Jan  5, 2021\",\n          \"Nov 18, 2022\",\n          \"Mar 23, 2022 - Apr 13, 2022\"\n        ],\n        \"semantic_type\": \"\",\n        \"description\": \"\"\n      }\n    },\n    {\n      \"column\": \"Year of release\",\n      \"properties\": {\n        \"dtype\": \"number\",\n        \"std\": 3,\n        \"min\": 2003,\n        \"max\": 2022,\n        \"num_unique_values\": 17,\n        \"samples\": [\n          2021,\n          2020,\n          2017\n        ],\n        \"semantic_type\": \"\",\n        \"description\": \"\"\n      }\n    },\n    {\n      \"column\": \"Original Network\",\n      \"properties\": {\n        \"dtype\": \"category\",\n        \"num_unique_values\": 45,\n        \"samples\": [\n          \"SBS, ViuTV\",\n          \"OCN, tvN\",\n          \"ENA, Olleh TV\"\n        ],\n        \"semantic_type\": \"\",\n        \"description\": \"\"\n      }\n    },\n    {\n      \"column\": \"Aired On\",\n      \"properties\": {\n        \"dtype\": \"category\",\n        \"num_unique_values\": 21,\n        \"samples\": [\n          \"Friday\",\n          \"Monday, Tuesday, Wednesday, Thursday, Friday\",\n          \"Monday, Thursday\"\n        ],\n        \"semantic_type\": \"\",\n        \"description\": \"\"\n      }\n    },\n    {\n      \"column\": \"Number of Episodes\",\n      \"properties\": {\n        \"dtype\": \"number\",\n        \"std\": 13,\n        \"min\": 1,\n        \"max\": 133,\n        \"num_unique_values\": 30,\n        \"samples\": [\n          81,\n          28,\n          60\n        ],\n        \"semantic_type\": \"\",\n        \"description\": \"\"\n      }\n    },\n    {\n      \"column\": \"Duration\",\n      \"properties\": {\n        \"dtype\": \"category\",\n        \"num_unique_values\": 38,\n        \"samples\": [\n          \"44 min.\",\n          \"15 min.\",\n          \"1 hr. 17 min.\"\n        ],\n        \"semantic_type\": \"\",\n        \"description\": \"\"\n      }\n    },\n    {\n      \"column\": \"Content Rating\",\n      \"properties\": {\n        \"dtype\": \"category\",\n        \"num_unique_values\": 4,\n        \"samples\": [\n          \"15+ - Teens 15 or older\",\n          \"G - All Ages\",\n          \"18+ Restricted (violence & profanity)\"\n        ],\n        \"semantic_type\": \"\",\n        \"description\": \"\"\n      }\n    },\n    {\n      \"column\": \"Rating\",\n      \"properties\": {\n        \"dtype\": \"number\",\n        \"std\": 0.2213594362117863,\n        \"min\": 8.3,\n        \"max\": 9.2,\n        \"num_unique_values\": 10,\n        \"samples\": [\n          8.4,\n          9.1,\n          8.7\n        ],\n        \"semantic_type\": \"\",\n        \"description\": \"\"\n      }\n    },\n    {\n      \"column\": \"Synopsis\",\n      \"properties\": {\n        \"dtype\": \"string\",\n        \"num_unique_values\": 250,\n        \"samples\": [\n          \"Kim Min Kyu is the largest shareholder of a financial company. He suffers from a \\\"human allergy\\\", preventing him from normal interactions with other people. He becomes interested in a robotic project named Aji-3 created by the Santa Maria robotic team. The team is headed by Hong Baek Gyun, inventor of Aji-3 and world-renowned robotics professor. He modeled Aji-3 after his ex-girlfriend, Jo Ji Ah, a struggling inventor that also works as a personal shopper to make ends meet. Just when Kim Min Kyu wants to test the robot, an accident causes the malfunction of the robot's battery. Hong Baek Gyun begs Jo Ji Ah to take the place of Aji-3 and pretend to be the robot so they can get funding from Kim Min Kyu. But, Aji-3 becomes the closest thing that the lonely Min Kyu has to real contact with another person.\",\n          \"Yeon Shi Eun is a model student who ranks at the top of his high school. Physically, Yeon Shi Eun appears weak, but by using his wits and psychology, he fights against the violence that takes place inside and outside of his school.\",\n          \"A story where ten people get the chance to go back in time by one year, but unexpectedly mysterious situations start to arise when their fates are changed and twisted in the process.\"\n        ],\n        \"semantic_type\": \"\",\n        \"description\": \"\"\n      }\n    },\n    {\n      \"column\": \"Genre\",\n      \"properties\": {\n        \"dtype\": \"string\",\n        \"num_unique_values\": 205,\n        \"samples\": [\n          \"Thriller,  Mystery,  Sci-Fi \",\n          \"Historical,  Mystery,  Comedy,  Romance \",\n          \"Thriller, Mystery, Psychological\"\n        ],\n        \"semantic_type\": \"\",\n        \"description\": \"\"\n      }\n    },\n    {\n      \"column\": \"Tags\",\n      \"properties\": {\n        \"dtype\": \"string\",\n        \"num_unique_values\": 250,\n        \"samples\": [\n          \"Haphephobia, Hidden Identity, Rich Male Lead, Robot, Eccentric Male Lead, Double Identity, Sismance, Hardworking Female Lead, Healing, Forgiveness\",\n          \"Bromance, Smart Male Lead, Violence, School Bullying, Adapted From A Webtoon, Delinquent Supporting Character, Quiet Male Lead, Skilled Fighter, Hidden Past, Strong Male Lead\",\n          \"Strong Female Lead, Time Travel, Nice Male Lead, Suspense, Murder, Detective, Fate, Supernatural, Accident, Webtoon Writer\"\n        ],\n        \"semantic_type\": \"\",\n        \"description\": \"\"\n      }\n    },\n    {\n      \"column\": \"Director\",\n      \"properties\": {\n        \"dtype\": \"string\",\n        \"num_unique_values\": 184,\n        \"samples\": [\n          \"Kim Tae Yoon, Sung Chi Wook\",\n          \"Kim Jae Hong, Park Bo Ram\",\n          \"Cha Young Hoon\"\n        ],\n        \"semantic_type\": \"\",\n        \"description\": \"\"\n      }\n    },\n    {\n      \"column\": \"Screenwriter\",\n      \"properties\": {\n        \"dtype\": \"string\",\n        \"num_unique_values\": 182,\n        \"samples\": [\n          \"Song Ji Na\",\n          \"Seol Yi Na, Kwon Il Yong\",\n          \"Im Hee Chul\"\n        ],\n        \"semantic_type\": \"\",\n        \"description\": \"\"\n      }\n    },\n    {\n      \"column\": \"Cast\",\n      \"properties\": {\n        \"dtype\": \"string\",\n        \"num_unique_values\": 249,\n        \"samples\": [\n          \"Jeon Do Yeon, Ryu Joon Yeol, Park Byung Eun, Kim Hyo Jin, Park Ji Young, Park In Hwan\",\n          \"Park Hae Soo, Jung Kyung Ho, Krystal Jung, Im Hwa Young, Ye Soo Jung, Kim Kyung Nam\",\n          \"Gong Hyo Jin, So Ji Sub, Seo In Guk, Kim Yoo Ri, Choi Jung Woo, Kim  Mi Kyung\"\n        ],\n        \"semantic_type\": \"\",\n        \"description\": \"\"\n      }\n    },\n    {\n      \"column\": \"Production companies\",\n      \"properties\": {\n        \"dtype\": \"string\",\n        \"num_unique_values\": 171,\n        \"samples\": [\n          \"Lydus Contents Company, AStory\",\n          \"Studio Phoenix, Chorokbaem Media, SLL\",\n          \"HB Entertainment\"\n        ],\n        \"semantic_type\": \"\",\n        \"description\": \"\"\n      }\n    },\n    {\n      \"column\": \"Rank\",\n      \"properties\": {\n        \"dtype\": \"string\",\n        \"num_unique_values\": 250,\n        \"samples\": [\n          \"#143\",\n          \"#7\",\n          \"#98\"\n        ],\n        \"semantic_type\": \"\",\n        \"description\": \"\"\n      }\n    }\n  ]\n}"
            }
          },
          "metadata": {},
          "execution_count": 6
        }
      ]
    },
    {
      "cell_type": "markdown",
      "source": [
        "##**Describe Data**"
      ],
      "metadata": {
        "id": "Q77SN74nSN_K"
      }
    },
    {
      "cell_type": "markdown",
      "source": [
        "### Informasi Dasar"
      ],
      "metadata": {
        "id": "Z6Ic4fhUSavs"
      }
    },
    {
      "cell_type": "code",
      "source": [
        "print(\"Jumlah baris dalam Dataset:\", df.shape[0])\n",
        "print(\"Jumlah kolom dalam Dataset:\", df.shape[1])"
      ],
      "metadata": {
        "colab": {
          "base_uri": "https://localhost:8080/"
        },
        "id": "BWFMFGObYlZ7",
        "outputId": "9608bcd7-843a-4457-d008-2cbdaff06a48"
      },
      "execution_count": null,
      "outputs": [
        {
          "output_type": "stream",
          "name": "stdout",
          "text": [
            "Jumlah baris dalam Dataset: 250\n",
            "Jumlah kolom dalam Dataset: 17\n"
          ]
        }
      ]
    },
    {
      "cell_type": "markdown",
      "source": [
        "Berdasarkan informasi di atas, dataset ini memiliki 250 baris dan 17 kolom.\n",
        "\n",
        "\n",
        "\n",
        "\n"
      ],
      "metadata": {
        "id": "v-dfs0_-ZhFJ"
      }
    },
    {
      "cell_type": "markdown",
      "source": [
        "### Informasi Lanjutan"
      ],
      "metadata": {
        "id": "26qtAR3MSicY"
      }
    },
    {
      "cell_type": "code",
      "source": [
        "df.info()"
      ],
      "metadata": {
        "colab": {
          "base_uri": "https://localhost:8080/"
        },
        "id": "V-1huUaudusc",
        "outputId": "83caad1a-e4cb-48b4-a6b4-92cc75e18c50"
      },
      "execution_count": null,
      "outputs": [
        {
          "output_type": "stream",
          "name": "stdout",
          "text": [
            "<class 'pandas.core.frame.DataFrame'>\n",
            "RangeIndex: 250 entries, 0 to 249\n",
            "Data columns (total 17 columns):\n",
            " #   Column                Non-Null Count  Dtype  \n",
            "---  ------                --------------  -----  \n",
            " 0   Name                  250 non-null    object \n",
            " 1   Aired Date            250 non-null    object \n",
            " 2   Year of release       250 non-null    int64  \n",
            " 3   Original Network      250 non-null    object \n",
            " 4   Aired On              250 non-null    object \n",
            " 5   Number of Episodes    250 non-null    int64  \n",
            " 6   Duration              250 non-null    object \n",
            " 7   Content Rating        245 non-null    object \n",
            " 8   Rating                250 non-null    float64\n",
            " 9   Synopsis              250 non-null    object \n",
            " 10  Genre                 250 non-null    object \n",
            " 11  Tags                  250 non-null    object \n",
            " 12  Director              249 non-null    object \n",
            " 13  Screenwriter          249 non-null    object \n",
            " 14  Cast                  250 non-null    object \n",
            " 15  Production companies  248 non-null    object \n",
            " 16  Rank                  250 non-null    object \n",
            "dtypes: float64(1), int64(2), object(14)\n",
            "memory usage: 33.3+ KB\n"
          ]
        }
      ]
    },
    {
      "cell_type": "markdown",
      "source": [
        "Berdasarkan informasi di atas, dataset ini memiliki 250 baris dengan rentang indeks dari 0 hingga 249 dan 17 kolom, dengan rincian seperti berikut:\n",
        "*   Name: merupakan judul drama korea, memiliki 250 data dan tipe datanya berupa object.\n",
        "*   Aired Date: merupakan tanggal dari kapan hingga pertama kali ditayangkan, memiliki 250 data dan tipe datanya berupa object.\n",
        "*   Year of release: merupakan tahun pertama kali dirilis, memiliki 250 data dan tipe datanya berupa integer.\n",
        "*\tOriginal Network: merupakan saluran televisi kabel atau platform OTT tempat pertama kali dirilis, memiliki 250 data dan tipe datanya berupa object.\n",
        "*\tAired On: merupakan hari-hari (jadwal) dalam seminggu saat acara ditayangkan, memiliki 250 data dan tipe datanya berupa object.\n",
        "*\tNumber of Episodes: merupakan jumlah total episode dalam drama korea, memiliki 250 data dan tipe datanya berupa integer.\n",
        "*\tDuration: merupakan durasi setiap episode drama korea dalam jam dan menit, memiliki 250 data dan tipe datanya berupa object.\n",
        "*\tContent Rating: merupakan rating penonton yang sesuai, memiliki 245 data dan tipe datanya berupa object.\n",
        "*\tRating: merupakan rating drama korea pada saat pembuatan dataset. Peringkat tersebut berdasarkan suara dari pengguna situs web MyDramaList. Memiliki 250 data dan tipe datanya berupa float.\n",
        "*\tSynopsis: merupakan sinopsis atau Plot dari drama korea, memiliki 250 data dan tipe datanya berupa object.\n",
        "*\tGenre: merupakan genre drama korea, memiliki 250 data dan tipe datanya berupa object.\n",
        "*\tTags: merupakan kata kunci yang digunakan untuk mendeskripsikan acara drama korea, memiliki 250 data dan tipe datanya berupa object.\n",
        "*\tDirector: merupakan sutradara dari acara drama korea, memiliki 249 data dan tipe datanya berupa object.\n",
        "*\tScreenwriter: merupakan penulis skenario dari drama korea, memiliki 249 data dan tipe datanya berupa object.\n",
        "*\tCast: merupakan pemeran utama dari drama korea, memiliki 250 data dan tipe datanya berupa object.\n",
        "*\tProduction companies: merupakan perusahaan yang memproduksi drama korea, memiliki 248 data dan tipe datanya berupa object.\n",
        "*\tRank: merupakan ranking drama korea, memiliki 250 data dan tipe datanya berupa object."
      ],
      "metadata": {
        "id": "mJfVq43meFGr"
      }
    },
    {
      "cell_type": "markdown",
      "source": [
        "### Informasi Statistik Deskriptif"
      ],
      "metadata": {
        "id": "P3nMxyeESnOr"
      }
    },
    {
      "cell_type": "code",
      "source": [
        "df.describe()"
      ],
      "metadata": {
        "colab": {
          "base_uri": "https://localhost:8080/",
          "height": 300
        },
        "id": "UW8XFoABmCOD",
        "outputId": "642d171d-c7ee-4220-81aa-f20371361b0e"
      },
      "execution_count": null,
      "outputs": [
        {
          "output_type": "execute_result",
          "data": {
            "text/plain": [
              "       Year of release  Number of Episodes      Rating\n",
              "count        250.00000          250.000000  250.000000\n",
              "mean        2018.25600           19.064000    8.534000\n",
              "std            3.26452           13.245743    0.221359\n",
              "min         2003.00000            1.000000    8.300000\n",
              "25%         2017.00000           16.000000    8.300000\n",
              "50%         2019.00000           16.000000    8.500000\n",
              "75%         2021.00000           20.000000    8.700000\n",
              "max         2022.00000          133.000000    9.200000"
            ],
            "text/html": [
              "\n",
              "  <div id=\"df-847d0b03-b286-4036-8f78-e8e9adc0e7d3\" class=\"colab-df-container\">\n",
              "    <div>\n",
              "<style scoped>\n",
              "    .dataframe tbody tr th:only-of-type {\n",
              "        vertical-align: middle;\n",
              "    }\n",
              "\n",
              "    .dataframe tbody tr th {\n",
              "        vertical-align: top;\n",
              "    }\n",
              "\n",
              "    .dataframe thead th {\n",
              "        text-align: right;\n",
              "    }\n",
              "</style>\n",
              "<table border=\"1\" class=\"dataframe\">\n",
              "  <thead>\n",
              "    <tr style=\"text-align: right;\">\n",
              "      <th></th>\n",
              "      <th>Year of release</th>\n",
              "      <th>Number of Episodes</th>\n",
              "      <th>Rating</th>\n",
              "    </tr>\n",
              "  </thead>\n",
              "  <tbody>\n",
              "    <tr>\n",
              "      <th>count</th>\n",
              "      <td>250.00000</td>\n",
              "      <td>250.000000</td>\n",
              "      <td>250.000000</td>\n",
              "    </tr>\n",
              "    <tr>\n",
              "      <th>mean</th>\n",
              "      <td>2018.25600</td>\n",
              "      <td>19.064000</td>\n",
              "      <td>8.534000</td>\n",
              "    </tr>\n",
              "    <tr>\n",
              "      <th>std</th>\n",
              "      <td>3.26452</td>\n",
              "      <td>13.245743</td>\n",
              "      <td>0.221359</td>\n",
              "    </tr>\n",
              "    <tr>\n",
              "      <th>min</th>\n",
              "      <td>2003.00000</td>\n",
              "      <td>1.000000</td>\n",
              "      <td>8.300000</td>\n",
              "    </tr>\n",
              "    <tr>\n",
              "      <th>25%</th>\n",
              "      <td>2017.00000</td>\n",
              "      <td>16.000000</td>\n",
              "      <td>8.300000</td>\n",
              "    </tr>\n",
              "    <tr>\n",
              "      <th>50%</th>\n",
              "      <td>2019.00000</td>\n",
              "      <td>16.000000</td>\n",
              "      <td>8.500000</td>\n",
              "    </tr>\n",
              "    <tr>\n",
              "      <th>75%</th>\n",
              "      <td>2021.00000</td>\n",
              "      <td>20.000000</td>\n",
              "      <td>8.700000</td>\n",
              "    </tr>\n",
              "    <tr>\n",
              "      <th>max</th>\n",
              "      <td>2022.00000</td>\n",
              "      <td>133.000000</td>\n",
              "      <td>9.200000</td>\n",
              "    </tr>\n",
              "  </tbody>\n",
              "</table>\n",
              "</div>\n",
              "    <div class=\"colab-df-buttons\">\n",
              "\n",
              "  <div class=\"colab-df-container\">\n",
              "    <button class=\"colab-df-convert\" onclick=\"convertToInteractive('df-847d0b03-b286-4036-8f78-e8e9adc0e7d3')\"\n",
              "            title=\"Convert this dataframe to an interactive table.\"\n",
              "            style=\"display:none;\">\n",
              "\n",
              "  <svg xmlns=\"http://www.w3.org/2000/svg\" height=\"24px\" viewBox=\"0 -960 960 960\">\n",
              "    <path d=\"M120-120v-720h720v720H120Zm60-500h600v-160H180v160Zm220 220h160v-160H400v160Zm0 220h160v-160H400v160ZM180-400h160v-160H180v160Zm440 0h160v-160H620v160ZM180-180h160v-160H180v160Zm440 0h160v-160H620v160Z\"/>\n",
              "  </svg>\n",
              "    </button>\n",
              "\n",
              "  <style>\n",
              "    .colab-df-container {\n",
              "      display:flex;\n",
              "      gap: 12px;\n",
              "    }\n",
              "\n",
              "    .colab-df-convert {\n",
              "      background-color: #E8F0FE;\n",
              "      border: none;\n",
              "      border-radius: 50%;\n",
              "      cursor: pointer;\n",
              "      display: none;\n",
              "      fill: #1967D2;\n",
              "      height: 32px;\n",
              "      padding: 0 0 0 0;\n",
              "      width: 32px;\n",
              "    }\n",
              "\n",
              "    .colab-df-convert:hover {\n",
              "      background-color: #E2EBFA;\n",
              "      box-shadow: 0px 1px 2px rgba(60, 64, 67, 0.3), 0px 1px 3px 1px rgba(60, 64, 67, 0.15);\n",
              "      fill: #174EA6;\n",
              "    }\n",
              "\n",
              "    .colab-df-buttons div {\n",
              "      margin-bottom: 4px;\n",
              "    }\n",
              "\n",
              "    [theme=dark] .colab-df-convert {\n",
              "      background-color: #3B4455;\n",
              "      fill: #D2E3FC;\n",
              "    }\n",
              "\n",
              "    [theme=dark] .colab-df-convert:hover {\n",
              "      background-color: #434B5C;\n",
              "      box-shadow: 0px 1px 3px 1px rgba(0, 0, 0, 0.15);\n",
              "      filter: drop-shadow(0px 1px 2px rgba(0, 0, 0, 0.3));\n",
              "      fill: #FFFFFF;\n",
              "    }\n",
              "  </style>\n",
              "\n",
              "    <script>\n",
              "      const buttonEl =\n",
              "        document.querySelector('#df-847d0b03-b286-4036-8f78-e8e9adc0e7d3 button.colab-df-convert');\n",
              "      buttonEl.style.display =\n",
              "        google.colab.kernel.accessAllowed ? 'block' : 'none';\n",
              "\n",
              "      async function convertToInteractive(key) {\n",
              "        const element = document.querySelector('#df-847d0b03-b286-4036-8f78-e8e9adc0e7d3');\n",
              "        const dataTable =\n",
              "          await google.colab.kernel.invokeFunction('convertToInteractive',\n",
              "                                                    [key], {});\n",
              "        if (!dataTable) return;\n",
              "\n",
              "        const docLinkHtml = 'Like what you see? Visit the ' +\n",
              "          '<a target=\"_blank\" href=https://colab.research.google.com/notebooks/data_table.ipynb>data table notebook</a>'\n",
              "          + ' to learn more about interactive tables.';\n",
              "        element.innerHTML = '';\n",
              "        dataTable['output_type'] = 'display_data';\n",
              "        await google.colab.output.renderOutput(dataTable, element);\n",
              "        const docLink = document.createElement('div');\n",
              "        docLink.innerHTML = docLinkHtml;\n",
              "        element.appendChild(docLink);\n",
              "      }\n",
              "    </script>\n",
              "  </div>\n",
              "\n",
              "\n",
              "<div id=\"df-a78a0352-f714-4a9c-920d-39917e53c77c\">\n",
              "  <button class=\"colab-df-quickchart\" onclick=\"quickchart('df-a78a0352-f714-4a9c-920d-39917e53c77c')\"\n",
              "            title=\"Suggest charts\"\n",
              "            style=\"display:none;\">\n",
              "\n",
              "<svg xmlns=\"http://www.w3.org/2000/svg\" height=\"24px\"viewBox=\"0 0 24 24\"\n",
              "     width=\"24px\">\n",
              "    <g>\n",
              "        <path d=\"M19 3H5c-1.1 0-2 .9-2 2v14c0 1.1.9 2 2 2h14c1.1 0 2-.9 2-2V5c0-1.1-.9-2-2-2zM9 17H7v-7h2v7zm4 0h-2V7h2v10zm4 0h-2v-4h2v4z\"/>\n",
              "    </g>\n",
              "</svg>\n",
              "  </button>\n",
              "\n",
              "<style>\n",
              "  .colab-df-quickchart {\n",
              "      --bg-color: #E8F0FE;\n",
              "      --fill-color: #1967D2;\n",
              "      --hover-bg-color: #E2EBFA;\n",
              "      --hover-fill-color: #174EA6;\n",
              "      --disabled-fill-color: #AAA;\n",
              "      --disabled-bg-color: #DDD;\n",
              "  }\n",
              "\n",
              "  [theme=dark] .colab-df-quickchart {\n",
              "      --bg-color: #3B4455;\n",
              "      --fill-color: #D2E3FC;\n",
              "      --hover-bg-color: #434B5C;\n",
              "      --hover-fill-color: #FFFFFF;\n",
              "      --disabled-bg-color: #3B4455;\n",
              "      --disabled-fill-color: #666;\n",
              "  }\n",
              "\n",
              "  .colab-df-quickchart {\n",
              "    background-color: var(--bg-color);\n",
              "    border: none;\n",
              "    border-radius: 50%;\n",
              "    cursor: pointer;\n",
              "    display: none;\n",
              "    fill: var(--fill-color);\n",
              "    height: 32px;\n",
              "    padding: 0;\n",
              "    width: 32px;\n",
              "  }\n",
              "\n",
              "  .colab-df-quickchart:hover {\n",
              "    background-color: var(--hover-bg-color);\n",
              "    box-shadow: 0 1px 2px rgba(60, 64, 67, 0.3), 0 1px 3px 1px rgba(60, 64, 67, 0.15);\n",
              "    fill: var(--button-hover-fill-color);\n",
              "  }\n",
              "\n",
              "  .colab-df-quickchart-complete:disabled,\n",
              "  .colab-df-quickchart-complete:disabled:hover {\n",
              "    background-color: var(--disabled-bg-color);\n",
              "    fill: var(--disabled-fill-color);\n",
              "    box-shadow: none;\n",
              "  }\n",
              "\n",
              "  .colab-df-spinner {\n",
              "    border: 2px solid var(--fill-color);\n",
              "    border-color: transparent;\n",
              "    border-bottom-color: var(--fill-color);\n",
              "    animation:\n",
              "      spin 1s steps(1) infinite;\n",
              "  }\n",
              "\n",
              "  @keyframes spin {\n",
              "    0% {\n",
              "      border-color: transparent;\n",
              "      border-bottom-color: var(--fill-color);\n",
              "      border-left-color: var(--fill-color);\n",
              "    }\n",
              "    20% {\n",
              "      border-color: transparent;\n",
              "      border-left-color: var(--fill-color);\n",
              "      border-top-color: var(--fill-color);\n",
              "    }\n",
              "    30% {\n",
              "      border-color: transparent;\n",
              "      border-left-color: var(--fill-color);\n",
              "      border-top-color: var(--fill-color);\n",
              "      border-right-color: var(--fill-color);\n",
              "    }\n",
              "    40% {\n",
              "      border-color: transparent;\n",
              "      border-right-color: var(--fill-color);\n",
              "      border-top-color: var(--fill-color);\n",
              "    }\n",
              "    60% {\n",
              "      border-color: transparent;\n",
              "      border-right-color: var(--fill-color);\n",
              "    }\n",
              "    80% {\n",
              "      border-color: transparent;\n",
              "      border-right-color: var(--fill-color);\n",
              "      border-bottom-color: var(--fill-color);\n",
              "    }\n",
              "    90% {\n",
              "      border-color: transparent;\n",
              "      border-bottom-color: var(--fill-color);\n",
              "    }\n",
              "  }\n",
              "</style>\n",
              "\n",
              "  <script>\n",
              "    async function quickchart(key) {\n",
              "      const quickchartButtonEl =\n",
              "        document.querySelector('#' + key + ' button');\n",
              "      quickchartButtonEl.disabled = true;  // To prevent multiple clicks.\n",
              "      quickchartButtonEl.classList.add('colab-df-spinner');\n",
              "      try {\n",
              "        const charts = await google.colab.kernel.invokeFunction(\n",
              "            'suggestCharts', [key], {});\n",
              "      } catch (error) {\n",
              "        console.error('Error during call to suggestCharts:', error);\n",
              "      }\n",
              "      quickchartButtonEl.classList.remove('colab-df-spinner');\n",
              "      quickchartButtonEl.classList.add('colab-df-quickchart-complete');\n",
              "    }\n",
              "    (() => {\n",
              "      let quickchartButtonEl =\n",
              "        document.querySelector('#df-a78a0352-f714-4a9c-920d-39917e53c77c button');\n",
              "      quickchartButtonEl.style.display =\n",
              "        google.colab.kernel.accessAllowed ? 'block' : 'none';\n",
              "    })();\n",
              "  </script>\n",
              "</div>\n",
              "    </div>\n",
              "  </div>\n"
            ],
            "application/vnd.google.colaboratory.intrinsic+json": {
              "type": "dataframe",
              "summary": "{\n  \"name\": \"df\",\n  \"rows\": 8,\n  \"fields\": [\n    {\n      \"column\": \"Year of release\",\n      \"properties\": {\n        \"dtype\": \"number\",\n        \"std\": 877.4368746641483,\n        \"min\": 3.264520235728048,\n        \"max\": 2022.0,\n        \"num_unique_values\": 8,\n        \"samples\": [\n          2018.256,\n          2019.0,\n          250.0\n        ],\n        \"semantic_type\": \"\",\n        \"description\": \"\"\n      }\n    },\n    {\n      \"column\": \"Number of Episodes\",\n      \"properties\": {\n        \"dtype\": \"number\",\n        \"std\": 88.01512361640837,\n        \"min\": 1.0,\n        \"max\": 250.0,\n        \"num_unique_values\": 7,\n        \"samples\": [\n          250.0,\n          19.064,\n          20.0\n        ],\n        \"semantic_type\": \"\",\n        \"description\": \"\"\n      }\n    },\n    {\n      \"column\": \"Rating\",\n      \"properties\": {\n        \"dtype\": \"number\",\n        \"std\": 85.82473922180874,\n        \"min\": 0.2213594362117863,\n        \"max\": 250.0,\n        \"num_unique_values\": 7,\n        \"samples\": [\n          250.0,\n          8.533999999999999,\n          8.7\n        ],\n        \"semantic_type\": \"\",\n        \"description\": \"\"\n      }\n    }\n  ]\n}"
            }
          },
          "metadata": {},
          "execution_count": 18
        }
      ]
    },
    {
      "cell_type": "markdown",
      "source": [
        "*   Insight Statistika Deskriptif dari Year of release (Tahun Rilis) drama korea pada dataset adalah sebagai berikut.\n",
        "1. Jumlah data yang ada adalah 250 data.\n",
        "1.   Rata-rata tahun rilis drama korea adalah tahun 2018.\n",
        "3. Standar deviasi tahun rilis drama korea adalah 3,2.\n",
        "2.   Minimal tahun rilis drama korea adalah tahun 2003.\n",
        "5. 25% tahun rilis drama korea adalah tahun 2017.\n",
        "6. 50% tahun rilis drama korea adalah tahun 2019.\n",
        "7. 75% tahun rilis drama korea adalah tahun 2021.\n",
        "3. Maksimal tahun rilis drama korea adalah tahun 2022.\n",
        "*   Insight Statistika Deskriptif dari Number of Episodes (Jumlah Episode) drama korea pada dataset adalah sebagai berikut.\n",
        "1. Jumlah data yang ada adalah 250 data.\n",
        "1.   Rata-rata jumlah episode drama korea adalah 19 episode.\n",
        "3. Standar deviasi jumlah episode drama korea adalah 13,2.\n",
        "2.   Minimal jumlah episode drama korea adalah 1 episode.\n",
        "5. 25% jumlah episode drama korea adalah 16 episode.\n",
        "6. 50% jumlah episode drama korea adalah 16 episode.\n",
        "7. 75% jumlah episode drama korea adalah 20 episode.\n",
        "3. Maksimal jumlah episode drama korea adalah 133 episode.\n",
        "*   Insight Statistika Deskriptif dari Rating drama korea pada dataset adalah sebagai berikut.\n",
        "1. Jumlah data yang ada adalah 250 data.\n",
        "1.   Rata-rata rating drama korea adalah tahun 8,5.\n",
        "3. Standar deviasi rating drama korea adalah 0,2.\n",
        "2.   Minimal rating drama korea adalah tahun 8,3.\n",
        "5. 25%  rating drama korea adalah tahun 8,3.\n",
        "6. 50%  rating drama korea adalah tahun 8,5.\n",
        "7. 75%  rating drama korea adalah tahun 8,7.\n",
        "3. Maksimal rating drama korea adalah tahun 9,2.\n",
        "\n",
        "\n"
      ],
      "metadata": {
        "id": "X13vK_AamJWt"
      }
    },
    {
      "cell_type": "markdown",
      "source": [
        "##**Exploratory Data Analysis**"
      ],
      "metadata": {
        "id": "ynUkqjT_TLuZ"
      }
    },
    {
      "cell_type": "code",
      "source": [
        "sns.lineplot(x=df['Year of release'].dropna(), y=df['Rating'].dropna())\n",
        "plt.title('Tren Popularitas Drama Korea')\n",
        "plt.xlabel('Tahun Rilis')\n",
        "plt.ylabel('Rating')\n",
        "plt.show()"
      ],
      "metadata": {
        "colab": {
          "base_uri": "https://localhost:8080/",
          "height": 472
        },
        "id": "1b-WP_HJ62IX",
        "outputId": "cd4dffdb-0c5a-4ec3-899c-c4b17edf6f73"
      },
      "execution_count": 12,
      "outputs": [
        {
          "output_type": "display_data",
          "data": {
            "text/plain": [
              "<Figure size 640x480 with 1 Axes>"
            ],
            "image/png": "[encoded data removed]"
          },
          "metadata": {}
        }
      ]
    },
    {
      "cell_type": "markdown",
      "source": [
        "Visualisasi di atas menunjukkan tren popularitas drama Korea selama beberapa tahun. Diagram ini berupa histogram horizontal dengan tahun rilis di sumbu x dan rating drama Korea yang dikeluarkan setiap tahun di sumbu y.\n",
        "\n",
        "Berdasarkan visualisasi di atas, kita dapat melihat bahwa popularitas drama Korea terus meningkat sejak tahun 2002 sampai dengan tahun 2022. Tren ini menunjukkan bahwa drama Korea menjadi semakin populer setiap tahun.\n",
        "\n",
        "Dari visualisasi di atas, didapatkan bahwa:\n",
        "* Tahun 2016 dan 2022 memiliki popularitas drama Korea yang paling tinggi, yaitu dengan rata-rata rating 8.6.\n",
        "* Tahun 2015 dan 2020 berada di posisi kedua dengan rata-rata rating 8.5.\n",
        "* Tahun 2002 memiliki popularitas drama Korea yang paling rendah, yaitu dengan rata-rata rating 8.3.\n",
        "* Tahun 2003 dan 2004 memiliki popularitas drama yang sama, yaitu dengan rata-rata rating 8.4.\n",
        "\n",
        "Dengan melihat tren popularitas drama Korea ini, kita dapat mengambil keputusan untuk memproduksi atau menonton drama Korea dengan genre yang populer pada tahun tersebut."
      ],
      "metadata": {
        "id": "gFWLMZcVC2bm"
      }
    },
    {
      "cell_type": "code",
      "source": [
        "sns.histplot(df['Year of release'].dropna(), bins=20, kde=True)\n",
        "plt.title('Distribusi Tahun Rilis Drama Korea')\n",
        "plt.xlabel('Tahun Rilis')\n",
        "plt.ylabel('Jumlah Drama Korea')\n",
        "plt.show()"
      ],
      "metadata": {
        "colab": {
          "base_uri": "https://localhost:8080/",
          "height": 472
        },
        "id": "clmhbKIqt7xs",
        "outputId": "ec82fd9f-b951-4630-fd05-de4082a26261"
      },
      "execution_count": 30,
      "outputs": [
        {
          "output_type": "display_data",
          "data": {
            "text/plain": [
              "<Figure size 640x480 with 1 Axes>"
            ],
            "image/png": "[encoded data removed]"
          },
          "metadata": {}
        }
      ]
    },
    {
      "cell_type": "markdown",
      "source": [
        "Visualisasi di atas menunjukkan distribusi tahun rilis dari drama Korea. Diagram ini berupa histogram horizontal dengan tahun rilis di sumbu x dan jumlah drama Korea yang dikeluarkan setiap tahun di sumbu y.\n",
        "\n",
        "Berdasarkan dari hasil visualisasi menurut tahun rilis drama korea, industri drama Korea mengalami pertumbuhan yang signifikan dalam beberapa tahun terakhir, yaitu terdapat peningkatan yang signifikan setelah tahun 2010. Berdasarkan visualisasi di atas, dapat dilihat bahwa pada tahun 2020 dan 2022 memiliki jumlah drama korea yang paling banyak dirilis, dengan jumlah 30 dan 35 drama korea. Diikuti oleh tahun 2012 dan 2015 yang memiliki jumlah drama yang sama, yaitu 25 drama korea. Sedangkan pada tahun 2002 yang memiliki paling sedikit jumlah drama, yaitu 5 drama dan\n",
        "Tren ini menunjukkan bahwa drama Korea semakin populer di seluruh dunia.\n",
        "Fluktuasi jumlah drama Korea yang dirilis setiap tahunnya kemungkinan disebabkan oleh berbagai faktor. Selain itu, tahun-tahun 2002, 2005, 2007, dan 2010 juga menunjukkan sedikit penurunan dalam jumlah drama Korea yang dikeluarkan."
      ],
      "metadata": {
        "id": "G3p6YbFc3RjG"
      }
    },
    {
      "cell_type": "code",
      "source": [
        "sns.countplot(y='Rating', data=df, palette='Set2')\n",
        "plt.title('Proporsi Rating Drama Korea')\n",
        "plt.xlabel('Jumlah Drama Korea')\n",
        "plt.ylabel('Rating')"
      ],
      "metadata": {
        "colab": {
          "base_uri": "https://localhost:8080/",
          "height": 596
        },
        "id": "i9zE8U8b-F_E",
        "outputId": "2b6dc544-c3ed-4e46-b262-10c6895f6f6b"
      },
      "execution_count": 32,
      "outputs": [
        {
          "output_type": "stream",
          "name": "stderr",
          "text": [
            "<ipython-input-32-256ce477e5e7>:1: FutureWarning: \n",
            "\n",
            "Passing `palette` without assigning `hue` is deprecated and will be removed in v0.14.0. Assign the `y` variable to `hue` and set `legend=False` for the same effect.\n",
            "\n",
            "  sns.countplot(y='Rating', data=df, palette='Set2')\n"
          ]
        },
        {
          "output_type": "execute_result",
          "data": {
            "text/plain": [
              "Text(0, 0.5, 'Rating')"
            ]
          },
          "metadata": {},
          "execution_count": 32
        },
        {
          "output_type": "display_data",
          "data": {
            "text/plain": [
              "<Figure size 640x480 with 1 Axes>"
            ],
            "image/png": "[encoded data removed]"
          },
          "metadata": {}
        }
      ]
    },
    {
      "cell_type": "markdown",
      "source": [
        "Visualisasi di atas adalah histogram vertikal yang menunjukkan distribusi rating dari drama Korea. Diagram ini berupa histogram dengan rating di sumbu x dan jumlah drama Korea yang memiliki rating tersebut di sumbu y.\n",
        "\n",
        "Berdasarkan visualisasi di atas, didapatkan hasil seperti berikut.\n",
        "* Distribusi rating drama Korea tidak merata.\n",
        "* Terdapat banyak drama Korea dengan rating 8.0 hingga 8.5.\n",
        "* Jumlah drama Korea dengan rating 7.0 dan 10.0 relatif lebih sedikit.\n",
        "* Terdapat tren peningkatan jumlah drama Korea dengan rating tinggi (8.5 - 10.0) dalam beberapa tahun terakhir. Hal ini menunjukkan bahwa kualitas drama Korea secara keseluruhan semakin meningkat.\n",
        "* Kita juga dapat melihat bahwa jumlah drama Korea dengan rating 9.1 dan 9.0 cukup tinggi, yaitu sebanyak 9 dan 8 drama. Hal ini menunjukkan bahwa drama Korea dengan rating tinggi masih populer hingga saat ini.\n",
        "\n",
        "Dengan melihat tren distribusi rating drama Korea ini, kita dapat mengambil keputusan untuk memproduksi atau menonton drama Korea yang relevan dengan rating tersebut. Hal ini dapat membantu kita memahami tren di kalangan para penonton dan memaksimalkan peluang untuk mengambil keuntungan dari tren tersebut."
      ],
      "metadata": {
        "id": "c9qj0XNVHahR"
      }
    },
    {
      "cell_type": "code",
      "source": [
        "sns.scatterplot(x='Year of release', y='Rating', data=df)\n",
        "plt.title('Pengaruh Tahun Rilis dalam Rating Drama Korea')\n",
        "plt.xlabel('Tahun Rilis')\n",
        "plt.ylabel('Rating')"
      ],
      "metadata": {
        "colab": {
          "base_uri": "https://localhost:8080/",
          "height": 489
        },
        "id": "WzkTfK7G0tH5",
        "outputId": "45ae3bb0-4184-4fcf-f736-8e022fd4b282"
      },
      "execution_count": 31,
      "outputs": [
        {
          "output_type": "execute_result",
          "data": {
            "text/plain": [
              "Text(0, 0.5, 'Rating')"
            ]
          },
          "metadata": {},
          "execution_count": 31
        },
        {
          "output_type": "display_data",
          "data": {
            "text/plain": [
              "<Figure size 640x480 with 1 Axes>"
            ],
            "image/png": "[encoded data removed]"
          },
          "metadata": {}
        }
      ]
    },
    {
      "cell_type": "markdown",
      "source": [
        "Dari visualisasi ini, kita dapat melihat bahwa drama Korea yang dikeluarkan pada tahun 2017.5 memiliki rating tertinggi dengan rata-rata 8.8. Selain itu, kita juga dapat melihat bahwa drama Korea yang dikeluarkan pada tahun-tahun 2015.0, 2017.5, dan 2022.5 memiliki rating rata-rata yang lebih tinggi dibandingkan dengan tahun-tahun lainnya. Hal ini menunjukkan bahwa para produser drama Korea lebih memproduksi drama dengan rating yang lebih tinggi pada tahun-tahun tersebut.\n",
        "\n",
        "Kita juga dapat melihat bahwa tahun-tahun 2002.5, 2005.0, 2007.5, dan 2010.0 memiliki rating rata-rata yang lebih rendah dibandingkan dengan tahun-tahun lainnya. Hal ini menunjukkan bahwa para produser drama Korea lebih sedikit memproduksi drama dengan rating yang lebih tinggi pada tahun-tahun tersebut."
      ],
      "metadata": {
        "id": "0pKKGa4LKCHD"
      }
    },
    {
      "cell_type": "code",
      "source": [
        "sns.scatterplot(x='Number of Episodes', y='Rating', data=df)\n",
        "plt.title('Pengaruh Jumlah Episode terhadap Rating Drama Korea')\n",
        "plt.xlabel('Jumlah Episode')\n",
        "plt.ylabel('Rating')"
      ],
      "metadata": {
        "colab": {
          "base_uri": "https://localhost:8080/",
          "height": 489
        },
        "id": "xRGmwfM406Am",
        "outputId": "92f114a5-0f77-4cb0-d7aa-844f58d2d584"
      },
      "execution_count": null,
      "outputs": [
        {
          "output_type": "execute_result",
          "data": {
            "text/plain": [
              "Text(0, 0.5, 'Rating')"
            ]
          },
          "metadata": {},
          "execution_count": 58
        },
        {
          "output_type": "display_data",
          "data": {
            "text/plain": [
              "<Figure size 640x480 with 1 Axes>"
            ],
            "image/png": "[encoded data removed]"
          },
          "metadata": {}
        }
      ]
    },
    {
      "cell_type": "markdown",
      "source": [
        "Dari visualisasi ini, kita dapat melihat bahwa drama Korea dengan jumlah episode lebih banyak tidak selalu memiliki rating yang lebih tinggi. Hal ini dapat kita lihat dari garis horizontal yang menunjukkan rata-rata rating dari drama Korea dengan jumlah episode tertentu. Garis horizontal tersebut menunjukkan bahwa drama Korea dengan jumlah episode antara 10-20 dan 30-40 memiliki rating rata-rata yang tinggi. Hal ini menunjukkan bahwa drama Korea dengan jumlah episode yang sedang, seperti 16 episode atau 32 episode, memiliki rating yang lebih tinggi dibandingkan dengan drama Korea dengan jumlah episode yang lebih banyak atau lebih sedikit.\n",
        "\n",
        "Selain itu, dari visualisasi ini kita dapat melihat bahwa drama Korea dengan jumlah episode antara 50-60 dan 100-120 memiliki rating rata-rata yang lebih rendah. Hal ini menunjukkan bahwa drama Korea dengan jumlah episode yang lebih banyak atau lebih sedikit memiliki rating yang lebih tinggi.\n",
        "\n",
        "Dalam visualisasi ini, ada dua outlier yang terlihat pada jumlah episode 100-120 dan 50-60. Outlier pada jumlah episode 100-120 memiliki rating yang lebih rendah dibandingkan dengan data lainnya pada jumlah episode tersebut. Hal ini menunjukkan bahwa drama Korea dengan jumlah episode yang lebih banyak tidak selalu memiliki rating yang lebih tinggi. Selain itu, outlier pada jumlah episode 50-60 memiliki rating yang lebih tinggi dibandingkan dengan data lainnya pada jumlah episode tersebut. Hal ini menunjukkan bahwa drama Korea dengan jumlah episode yang sedang juga dapat memiliki rating yang tinggi."
      ],
      "metadata": {
        "id": "S0shm1jeLFJL"
      }
    },
    {
      "cell_type": "code",
      "source": [
        "px.imshow(df.corr(numeric_only=True))"
      ],
      "metadata": {
        "colab": {
          "base_uri": "https://localhost:8080/",
          "height": 542
        },
        "id": "A07vAqqgOrVV",
        "outputId": "9fcd7f49-91c1-419b-d98e-f51cd162c9be"
      },
      "execution_count": 35,
      "outputs": [
        {
          "output_type": "display_data",
          "data": {
            "text/html": [
              "<html>\n",
              "<head><meta charset=\"utf-8\" /></head>\n",
              "<body>\n",
              "    <div>            <script src=\"https://cdnjs.cloudflare.com/ajax/libs/mathjax/2.7.5/MathJax.js?config=TeX-AMS-MML_SVG\"></script><script type=\"text/javascript\">if (window.MathJax && window.MathJax.Hub && window.MathJax.Hub.Config) {window.MathJax.Hub.Config({SVG: {font: \"STIX-Web\"}});}</script>                <script type=\"text/javascript\">window.PlotlyConfig = {MathJaxConfig: 'local'};</script>\n",
              "        <script charset=\"utf-8\" src=\"https://cdn.plot.ly/plotly-2.24.1.min.js\"></script>                <div id=\"4e385883-8231-4291-aaf5-b918a3fef43e\" class=\"plotly-graph-div\" style=\"height:525px; width:100%;\"></div>            <script type=\"text/javascript\">                                    window.PLOTLYENV=window.PLOTLYENV || {};                                    if (document.getElementById(\"4e385883-8231-4291-aaf5-b918a3fef43e\")) {                    Plotly.newPlot(                        \"4e385883-8231-4291-aaf5-b918a3fef43e\",                        [{\"coloraxis\":\"coloraxis\",\"name\":\"0\",\"x\":[\"Year of release\",\"Number of Episodes\",\"Rating\"],\"y\":[\"Year of release\",\"Number of Episodes\",\"Rating\"],\"z\":[[1.0,-0.38934642288982213,0.154077469813184],[-0.38934642288982213,1.0,-0.0973091547148467],[0.154077469813184,-0.0973091547148467,1.0]],\"type\":\"heatmap\",\"xaxis\":\"x\",\"yaxis\":\"y\",\"hovertemplate\":\"x: %{x}\\u003cbr\\u003ey: %{y}\\u003cbr\\u003ecolor: %{z}\\u003cextra\\u003e\\u003c\\u002fextra\\u003e\"}],                        {\"template\":{\"data\":{\"histogram2dcontour\":[{\"type\":\"histogram2dcontour\",\"colorbar\":{\"outlinewidth\":0,\"ticks\":\"\"},\"colorscale\":[[0.0,\"#0d0887\"],[0.1111111111111111,\"#46039f\"],[0.2222222222222222,\"#7201a8\"],[0.3333333333333333,\"#9c179e\"],[0.4444444444444444,\"#bd3786\"],[0.5555555555555556,\"#d8576b\"],[0.6666666666666666,\"#ed7953\"],[0.7777777777777778,\"#fb9f3a\"],[0.8888888888888888,\"#fdca26\"],[1.0,\"#f0f921\"]]}],\"choropleth\":[{\"type\":\"choropleth\",\"colorbar\":{\"outlinewidth\":0,\"ticks\":\"\"}}],\"histogram2d\":[{\"type\":\"histogram2d\",\"colorbar\":{\"outlinewidth\":0,\"ticks\":\"\"},\"colorscale\":[[0.0,\"#0d0887\"],[0.1111111111111111,\"#46039f\"],[0.2222222222222222,\"#7201a8\"],[0.3333333333333333,\"#9c179e\"],[0.4444444444444444,\"#bd3786\"],[0.5555555555555556,\"#d8576b\"],[0.6666666666666666,\"#ed7953\"],[0.7777777777777778,\"#fb9f3a\"],[0.8888888888888888,\"#fdca26\"],[1.0,\"#f0f921\"]]}],\"heatmap\":[{\"type\":\"heatmap\",\"colorbar\":{\"outlinewidth\":0,\"ticks\":\"\"},\"colorscale\":[[0.0,\"#0d0887\"],[0.1111111111111111,\"#46039f\"],[0.2222222222222222,\"#7201a8\"],[0.3333333333333333,\"#9c179e\"],[0.4444444444444444,\"#bd3786\"],[0.5555555555555556,\"#d8576b\"],[0.6666666666666666,\"#ed7953\"],[0.7777777777777778,\"#fb9f3a\"],[0.8888888888888888,\"#fdca26\"],[1.0,\"#f0f921\"]]}],\"heatmapgl\":[{\"type\":\"heatmapgl\",\"colorbar\":{\"outlinewidth\":0,\"ticks\":\"\"},\"colorscale\":[[0.0,\"#0d0887\"],[0.1111111111111111,\"#46039f\"],[0.2222222222222222,\"#7201a8\"],[0.3333333333333333,\"#9c179e\"],[0.4444444444444444,\"#bd3786\"],[0.5555555555555556,\"#d8576b\"],[0.6666666666666666,\"#ed7953\"],[0.7777777777777778,\"#fb9f3a\"],[0.8888888888888888,\"#fdca26\"],[1.0,\"#f0f921\"]]}],\"contourcarpet\":[{\"type\":\"contourcarpet\",\"colorbar\":{\"outlinewidth\":0,\"ticks\":\"\"}}],\"contour\":[{\"type\":\"contour\",\"colorbar\":{\"outlinewidth\":0,\"ticks\":\"\"},\"colorscale\":[[0.0,\"#0d0887\"],[0.1111111111111111,\"#46039f\"],[0.2222222222222222,\"#7201a8\"],[0.3333333333333333,\"#9c179e\"],[0.4444444444444444,\"#bd3786\"],[0.5555555555555556,\"#d8576b\"],[0.6666666666666666,\"#ed7953\"],[0.7777777777777778,\"#fb9f3a\"],[0.8888888888888888,\"#fdca26\"],[1.0,\"#f0f921\"]]}],\"surface\":[{\"type\":\"surface\",\"colorbar\":{\"outlinewidth\":0,\"ticks\":\"\"},\"colorscale\":[[0.0,\"#0d0887\"],[0.1111111111111111,\"#46039f\"],[0.2222222222222222,\"#7201a8\"],[0.3333333333333333,\"#9c179e\"],[0.4444444444444444,\"#bd3786\"],[0.5555555555555556,\"#d8576b\"],[0.6666666666666666,\"#ed7953\"],[0.7777777777777778,\"#fb9f3a\"],[0.8888888888888888,\"#fdca26\"],[1.0,\"#f0f921\"]]}],\"mesh3d\":[{\"type\":\"mesh3d\",\"colorbar\":{\"outlinewidth\":0,\"ticks\":\"\"}}],\"scatter\":[{\"fillpattern\":{\"fillmode\":\"overlay\",\"size\":10,\"solidity\":0.2},\"type\":\"scatter\"}],\"parcoords\":[{\"type\":\"parcoords\",\"line\":{\"colorbar\":{\"outlinewidth\":0,\"ticks\":\"\"}}}],\"scatterpolargl\":[{\"type\":\"scatterpolargl\",\"marker\":{\"colorbar\":{\"outlinewidth\":0,\"ticks\":\"\"}}}],\"bar\":[{\"error_x\":{\"color\":\"#2a3f5f\"},\"error_y\":{\"color\":\"#2a3f5f\"},\"marker\":{\"line\":{\"color\":\"#E5ECF6\",\"width\":0.5},\"pattern\":{\"fillmode\":\"overlay\",\"size\":10,\"solidity\":0.2}},\"type\":\"bar\"}],\"scattergeo\":[{\"type\":\"scattergeo\",\"marker\":{\"colorbar\":{\"outlinewidth\":0,\"ticks\":\"\"}}}],\"scatterpolar\":[{\"type\":\"scatterpolar\",\"marker\":{\"colorbar\":{\"outlinewidth\":0,\"ticks\":\"\"}}}],\"histogram\":[{\"marker\":{\"pattern\":{\"fillmode\":\"overlay\",\"size\":10,\"solidity\":0.2}},\"type\":\"histogram\"}],\"scattergl\":[{\"type\":\"scattergl\",\"marker\":{\"colorbar\":{\"outlinewidth\":0,\"ticks\":\"\"}}}],\"scatter3d\":[{\"type\":\"scatter3d\",\"line\":{\"colorbar\":{\"outlinewidth\":0,\"ticks\":\"\"}},\"marker\":{\"colorbar\":{\"outlinewidth\":0,\"ticks\":\"\"}}}],\"scattermapbox\":[{\"type\":\"scattermapbox\",\"marker\":{\"colorbar\":{\"outlinewidth\":0,\"ticks\":\"\"}}}],\"scatterternary\":[{\"type\":\"scatterternary\",\"marker\":{\"colorbar\":{\"outlinewidth\":0,\"ticks\":\"\"}}}],\"scattercarpet\":[{\"type\":\"scattercarpet\",\"marker\":{\"colorbar\":{\"outlinewidth\":0,\"ticks\":\"\"}}}],\"carpet\":[{\"aaxis\":{\"endlinecolor\":\"#2a3f5f\",\"gridcolor\":\"white\",\"linecolor\":\"white\",\"minorgridcolor\":\"white\",\"startlinecolor\":\"#2a3f5f\"},\"baxis\":{\"endlinecolor\":\"#2a3f5f\",\"gridcolor\":\"white\",\"linecolor\":\"white\",\"minorgridcolor\":\"white\",\"startlinecolor\":\"#2a3f5f\"},\"type\":\"carpet\"}],\"table\":[{\"cells\":{\"fill\":{\"color\":\"#EBF0F8\"},\"line\":{\"color\":\"white\"}},\"header\":{\"fill\":{\"color\":\"#C8D4E3\"},\"line\":{\"color\":\"white\"}},\"type\":\"table\"}],\"barpolar\":[{\"marker\":{\"line\":{\"color\":\"#E5ECF6\",\"width\":0.5},\"pattern\":{\"fillmode\":\"overlay\",\"size\":10,\"solidity\":0.2}},\"type\":\"barpolar\"}],\"pie\":[{\"automargin\":true,\"type\":\"pie\"}]},\"layout\":{\"autotypenumbers\":\"strict\",\"colorway\":[\"#636efa\",\"#EF553B\",\"#00cc96\",\"#ab63fa\",\"#FFA15A\",\"#19d3f3\",\"#FF6692\",\"#B6E880\",\"#FF97FF\",\"#FECB52\"],\"font\":{\"color\":\"#2a3f5f\"},\"hovermode\":\"closest\",\"hoverlabel\":{\"align\":\"left\"},\"paper_bgcolor\":\"white\",\"plot_bgcolor\":\"#E5ECF6\",\"polar\":{\"bgcolor\":\"#E5ECF6\",\"angularaxis\":{\"gridcolor\":\"white\",\"linecolor\":\"white\",\"ticks\":\"\"},\"radialaxis\":{\"gridcolor\":\"white\",\"linecolor\":\"white\",\"ticks\":\"\"}},\"ternary\":{\"bgcolor\":\"#E5ECF6\",\"aaxis\":{\"gridcolor\":\"white\",\"linecolor\":\"white\",\"ticks\":\"\"},\"baxis\":{\"gridcolor\":\"white\",\"linecolor\":\"white\",\"ticks\":\"\"},\"caxis\":{\"gridcolor\":\"white\",\"linecolor\":\"white\",\"ticks\":\"\"}},\"coloraxis\":{\"colorbar\":{\"outlinewidth\":0,\"ticks\":\"\"}},\"colorscale\":{\"sequential\":[[0.0,\"#0d0887\"],[0.1111111111111111,\"#46039f\"],[0.2222222222222222,\"#7201a8\"],[0.3333333333333333,\"#9c179e\"],[0.4444444444444444,\"#bd3786\"],[0.5555555555555556,\"#d8576b\"],[0.6666666666666666,\"#ed7953\"],[0.7777777777777778,\"#fb9f3a\"],[0.8888888888888888,\"#fdca26\"],[1.0,\"#f0f921\"]],\"sequentialminus\":[[0.0,\"#0d0887\"],[0.1111111111111111,\"#46039f\"],[0.2222222222222222,\"#7201a8\"],[0.3333333333333333,\"#9c179e\"],[0.4444444444444444,\"#bd3786\"],[0.5555555555555556,\"#d8576b\"],[0.6666666666666666,\"#ed7953\"],[0.7777777777777778,\"#fb9f3a\"],[0.8888888888888888,\"#fdca26\"],[1.0,\"#f0f921\"]],\"diverging\":[[0,\"#8e0152\"],[0.1,\"#c51b7d\"],[0.2,\"#de77ae\"],[0.3,\"#f1b6da\"],[0.4,\"#fde0ef\"],[0.5,\"#f7f7f7\"],[0.6,\"#e6f5d0\"],[0.7,\"#b8e186\"],[0.8,\"#7fbc41\"],[0.9,\"#4d9221\"],[1,\"#276419\"]]},\"xaxis\":{\"gridcolor\":\"white\",\"linecolor\":\"white\",\"ticks\":\"\",\"title\":{\"standoff\":15},\"zerolinecolor\":\"white\",\"automargin\":true,\"zerolinewidth\":2},\"yaxis\":{\"gridcolor\":\"white\",\"linecolor\":\"white\",\"ticks\":\"\",\"title\":{\"standoff\":15},\"zerolinecolor\":\"white\",\"automargin\":true,\"zerolinewidth\":2},\"scene\":{\"xaxis\":{\"backgroundcolor\":\"#E5ECF6\",\"gridcolor\":\"white\",\"linecolor\":\"white\",\"showbackground\":true,\"ticks\":\"\",\"zerolinecolor\":\"white\",\"gridwidth\":2},\"yaxis\":{\"backgroundcolor\":\"#E5ECF6\",\"gridcolor\":\"white\",\"linecolor\":\"white\",\"showbackground\":true,\"ticks\":\"\",\"zerolinecolor\":\"white\",\"gridwidth\":2},\"zaxis\":{\"backgroundcolor\":\"#E5ECF6\",\"gridcolor\":\"white\",\"linecolor\":\"white\",\"showbackground\":true,\"ticks\":\"\",\"zerolinecolor\":\"white\",\"gridwidth\":2}},\"shapedefaults\":{\"line\":{\"color\":\"#2a3f5f\"}},\"annotationdefaults\":{\"arrowcolor\":\"#2a3f5f\",\"arrowhead\":0,\"arrowwidth\":1},\"geo\":{\"bgcolor\":\"white\",\"landcolor\":\"#E5ECF6\",\"subunitcolor\":\"white\",\"showland\":true,\"showlakes\":true,\"lakecolor\":\"white\"},\"title\":{\"x\":0.05},\"mapbox\":{\"style\":\"light\"}}},\"xaxis\":{\"anchor\":\"y\",\"domain\":[0.0,1.0],\"scaleanchor\":\"y\",\"constrain\":\"domain\"},\"yaxis\":{\"anchor\":\"x\",\"domain\":[0.0,1.0],\"autorange\":\"reversed\",\"constrain\":\"domain\"},\"coloraxis\":{\"colorscale\":[[0.0,\"#0d0887\"],[0.1111111111111111,\"#46039f\"],[0.2222222222222222,\"#7201a8\"],[0.3333333333333333,\"#9c179e\"],[0.4444444444444444,\"#bd3786\"],[0.5555555555555556,\"#d8576b\"],[0.6666666666666666,\"#ed7953\"],[0.7777777777777778,\"#fb9f3a\"],[0.8888888888888888,\"#fdca26\"],[1.0,\"#f0f921\"]]},\"margin\":{\"t\":60}},                        {\"responsive\": true}                    ).then(function(){\n",
              "                            \n",
              "var gd = document.getElementById('4e385883-8231-4291-aaf5-b918a3fef43e');\n",
              "var x = new MutationObserver(function (mutations, observer) {{\n",
              "        var display = window.getComputedStyle(gd).display;\n",
              "        if (!display || display === 'none') {{\n",
              "            console.log([gd, 'removed!']);\n",
              "            Plotly.purge(gd);\n",
              "            observer.disconnect();\n",
              "        }}\n",
              "}});\n",
              "\n",
              "// Listen for the removal of the full notebook cells\n",
              "var notebookContainer = gd.closest('#notebook-container');\n",
              "if (notebookContainer) {{\n",
              "    x.observe(notebookContainer, {childList: true});\n",
              "}}\n",
              "\n",
              "// Listen for the clearing of the current output cell\n",
              "var outputEl = gd.closest('.output');\n",
              "if (outputEl) {{\n",
              "    x.observe(outputEl, {childList: true});\n",
              "}}\n",
              "\n",
              "                        })                };                            </script>        </div>\n",
              "</body>\n",
              "</html>"
            ]
          },
          "metadata": {}
        }
      ]
    },
    {
      "cell_type": "markdown",
      "source": [
        "Dari visualisasi di atas, kita dapat melihat bahwa ada hubungan positif antara Year of release dan rating dari drama Korea. Hal ini menunjukkan bahwa drama Korea setiap tahunnya memiliki rating yang lebih tinggi, dan sebaliknya. Dengan korelasi antar kolom 'Year of release' dan kolom 'Rating' sebesar 0,15.\n",
        "\n",
        "Kolom Number of Episodes memiliki korelasi negatif dengan kolom Rating sebesar -0,09. Hal ini menunjukkan bahwa drama Korea yang lebih lama ditayangkan (memiliki banyak episode) memiliki rating yang relatif lebih rendah.\n",
        "\n",
        "Kolom Number of Episodes memiliki korelasi negatif dengan kolom Year of release sebesar -0,38. Hal ini menunjukkan bahwa drama Korea yang lebih lama ditayangkan (memiliki banyak episode) tidak banyak ditayangkan pada setiap tahunnya.\n",
        "\n"
      ],
      "metadata": {
        "id": "cZDrH8fKPQPL"
      }
    },
    {
      "cell_type": "markdown",
      "source": [
        "##**Verify Data Quality**"
      ],
      "metadata": {
        "id": "kZ7Y41rI7zQu"
      }
    },
    {
      "cell_type": "markdown",
      "source": [
        "### Missing Values"
      ],
      "metadata": {
        "id": "p1R9RJzR79FA"
      }
    },
    {
      "cell_type": "code",
      "source": [
        "print(df.isnull().sum())\n",
        "\n",
        "print(df.columns[df.isnull().any()])\n"
      ],
      "metadata": {
        "colab": {
          "base_uri": "https://localhost:8080/"
        },
        "id": "qTjEgq578Vxn",
        "outputId": "33f30083-608f-4a23-bd8c-d39d16ae17f3"
      },
      "execution_count": null,
      "outputs": [
        {
          "output_type": "stream",
          "name": "stdout",
          "text": [
            "Name                    0\n",
            "Aired Date              0\n",
            "Year of release         0\n",
            "Original Network        0\n",
            "Aired On                0\n",
            "Number of Episodes      0\n",
            "Duration                0\n",
            "Content Rating          5\n",
            "Rating                  0\n",
            "Synopsis                0\n",
            "Genre                   0\n",
            "Tags                    0\n",
            "Director                1\n",
            "Screenwriter            1\n",
            "Cast                    0\n",
            "Production companies    2\n",
            "Rank                    0\n",
            "dtype: int64\n",
            "Index(['Content Rating', 'Director', 'Screenwriter', 'Production companies'], dtype='object')\n"
          ]
        }
      ]
    },
    {
      "cell_type": "markdown",
      "source": [
        "Berdasarkan pada informasi di atas, pada dataset ini terdapat 4 kolom dengan tipe data object yang memiliki missing values (nilai kosong).\n",
        "1.   Kolom Content Rating yang memiliki data kosong berjumlah 5 data kosong.\n",
        "2.   Kolom Director yang memiliki data kosong berjumlah 1 data kosong.\n",
        "3. Kolom Screenwriter yang memiliki data kosong berjumlah 1 data kosong.\n",
        "4. Kolom Production companies yang memiliki data kosong berjumlah 2 data kosong.\n",
        "\n",
        "Maka dari itu, Kolom Name, Aired Date, Year of release, Original Network, Aired On, Number of Episodes, Duration, Rating, Synopsis, Genre, Tags, Cast, serta Rank tidak memiliki missing values (nilai kosong).\n"
      ],
      "metadata": {
        "id": "EdfP46zY_klH"
      }
    },
    {
      "cell_type": "markdown",
      "source": [
        "### Outliers Values"
      ],
      "metadata": {
        "id": "EpKMC_SI8BJs"
      }
    },
    {
      "cell_type": "code",
      "source": [
        "results = []\n",
        "\n",
        "cols = df.select_dtypes(include=['float64', 'int64'])\n",
        "\n",
        "for col in cols:\n",
        "  q1 = df[col].quantile(0.25)\n",
        "  q3 = df[col].quantile(0.75)\n",
        "  iqr = q3 - q1\n",
        "  lower_bound = q1 - 1.5*iqr\n",
        "  upper_bound = q3 + 1.5*iqr\n",
        "  outliers = df[(df[col] < lower_bound) | (df[col] > upper_bound)]\n",
        "  percent_outliers = (len(outliers)/len(df))*100\n",
        "  results.append({'Kolom': col, 'Persentase Outliers': percent_outliers})\n",
        "\n",
        "# Dataframe dari list hasil\n",
        "results_df = pd.DataFrame(results)\n",
        "results_df.set_index('Kolom', inplace=True)\n",
        "results_df = results_df.rename_axis(None, axis=0).rename_axis('Kolom', axis=1)\n",
        "\n",
        "# Tampilkan dataframe\n",
        "display(results_df)"
      ],
      "metadata": {
        "colab": {
          "base_uri": "https://localhost:8080/",
          "height": 144
        },
        "id": "iozxwhku9MWa",
        "outputId": "ae971f8f-fad3-41fe-8fb9-c45f772f74cb"
      },
      "execution_count": null,
      "outputs": [
        {
          "output_type": "display_data",
          "data": {
            "text/plain": [
              "Kolom               Persentase Outliers\n",
              "Year of release                     2.0\n",
              "Number of Episodes                 20.4\n",
              "Rating                              0.0"
            ],
            "text/html": [
              "\n",
              "  <div id=\"df-29bd3d16-e2a9-49d4-8f84-0bbfafa45657\" class=\"colab-df-container\">\n",
              "    <div>\n",
              "<style scoped>\n",
              "    .dataframe tbody tr th:only-of-type {\n",
              "        vertical-align: middle;\n",
              "    }\n",
              "\n",
              "    .dataframe tbody tr th {\n",
              "        vertical-align: top;\n",
              "    }\n",
              "\n",
              "    .dataframe thead th {\n",
              "        text-align: right;\n",
              "    }\n",
              "</style>\n",
              "<table border=\"1\" class=\"dataframe\">\n",
              "  <thead>\n",
              "    <tr style=\"text-align: right;\">\n",
              "      <th>Kolom</th>\n",
              "      <th>Persentase Outliers</th>\n",
              "    </tr>\n",
              "  </thead>\n",
              "  <tbody>\n",
              "    <tr>\n",
              "      <th>Year of release</th>\n",
              "      <td>2.0</td>\n",
              "    </tr>\n",
              "    <tr>\n",
              "      <th>Number of Episodes</th>\n",
              "      <td>20.4</td>\n",
              "    </tr>\n",
              "    <tr>\n",
              "      <th>Rating</th>\n",
              "      <td>0.0</td>\n",
              "    </tr>\n",
              "  </tbody>\n",
              "</table>\n",
              "</div>\n",
              "    <div class=\"colab-df-buttons\">\n",
              "\n",
              "  <div class=\"colab-df-container\">\n",
              "    <button class=\"colab-df-convert\" onclick=\"convertToInteractive('df-29bd3d16-e2a9-49d4-8f84-0bbfafa45657')\"\n",
              "            title=\"Convert this dataframe to an interactive table.\"\n",
              "            style=\"display:none;\">\n",
              "\n",
              "  <svg xmlns=\"http://www.w3.org/2000/svg\" height=\"24px\" viewBox=\"0 -960 960 960\">\n",
              "    <path d=\"M120-120v-720h720v720H120Zm60-500h600v-160H180v160Zm220 220h160v-160H400v160Zm0 220h160v-160H400v160ZM180-400h160v-160H180v160Zm440 0h160v-160H620v160ZM180-180h160v-160H180v160Zm440 0h160v-160H620v160Z\"/>\n",
              "  </svg>\n",
              "    </button>\n",
              "\n",
              "  <style>\n",
              "    .colab-df-container {\n",
              "      display:flex;\n",
              "      gap: 12px;\n",
              "    }\n",
              "\n",
              "    .colab-df-convert {\n",
              "      background-color: #E8F0FE;\n",
              "      border: none;\n",
              "      border-radius: 50%;\n",
              "      cursor: pointer;\n",
              "      display: none;\n",
              "      fill: #1967D2;\n",
              "      height: 32px;\n",
              "      padding: 0 0 0 0;\n",
              "      width: 32px;\n",
              "    }\n",
              "\n",
              "    .colab-df-convert:hover {\n",
              "      background-color: #E2EBFA;\n",
              "      box-shadow: 0px 1px 2px rgba(60, 64, 67, 0.3), 0px 1px 3px 1px rgba(60, 64, 67, 0.15);\n",
              "      fill: #174EA6;\n",
              "    }\n",
              "\n",
              "    .colab-df-buttons div {\n",
              "      margin-bottom: 4px;\n",
              "    }\n",
              "\n",
              "    [theme=dark] .colab-df-convert {\n",
              "      background-color: #3B4455;\n",
              "      fill: #D2E3FC;\n",
              "    }\n",
              "\n",
              "    [theme=dark] .colab-df-convert:hover {\n",
              "      background-color: #434B5C;\n",
              "      box-shadow: 0px 1px 3px 1px rgba(0, 0, 0, 0.15);\n",
              "      filter: drop-shadow(0px 1px 2px rgba(0, 0, 0, 0.3));\n",
              "      fill: #FFFFFF;\n",
              "    }\n",
              "  </style>\n",
              "\n",
              "    <script>\n",
              "      const buttonEl =\n",
              "        document.querySelector('#df-29bd3d16-e2a9-49d4-8f84-0bbfafa45657 button.colab-df-convert');\n",
              "      buttonEl.style.display =\n",
              "        google.colab.kernel.accessAllowed ? 'block' : 'none';\n",
              "\n",
              "      async function convertToInteractive(key) {\n",
              "        const element = document.querySelector('#df-29bd3d16-e2a9-49d4-8f84-0bbfafa45657');\n",
              "        const dataTable =\n",
              "          await google.colab.kernel.invokeFunction('convertToInteractive',\n",
              "                                                    [key], {});\n",
              "        if (!dataTable) return;\n",
              "\n",
              "        const docLinkHtml = 'Like what you see? Visit the ' +\n",
              "          '<a target=\"_blank\" href=https://colab.research.google.com/notebooks/data_table.ipynb>data table notebook</a>'\n",
              "          + ' to learn more about interactive tables.';\n",
              "        element.innerHTML = '';\n",
              "        dataTable['output_type'] = 'display_data';\n",
              "        await google.colab.output.renderOutput(dataTable, element);\n",
              "        const docLink = document.createElement('div');\n",
              "        docLink.innerHTML = docLinkHtml;\n",
              "        element.appendChild(docLink);\n",
              "      }\n",
              "    </script>\n",
              "  </div>\n",
              "\n",
              "\n",
              "<div id=\"df-6cae036a-b3fb-4f42-be67-2c49d12fa64a\">\n",
              "  <button class=\"colab-df-quickchart\" onclick=\"quickchart('df-6cae036a-b3fb-4f42-be67-2c49d12fa64a')\"\n",
              "            title=\"Suggest charts\"\n",
              "            style=\"display:none;\">\n",
              "\n",
              "<svg xmlns=\"http://www.w3.org/2000/svg\" height=\"24px\"viewBox=\"0 0 24 24\"\n",
              "     width=\"24px\">\n",
              "    <g>\n",
              "        <path d=\"M19 3H5c-1.1 0-2 .9-2 2v14c0 1.1.9 2 2 2h14c1.1 0 2-.9 2-2V5c0-1.1-.9-2-2-2zM9 17H7v-7h2v7zm4 0h-2V7h2v10zm4 0h-2v-4h2v4z\"/>\n",
              "    </g>\n",
              "</svg>\n",
              "  </button>\n",
              "\n",
              "<style>\n",
              "  .colab-df-quickchart {\n",
              "      --bg-color: #E8F0FE;\n",
              "      --fill-color: #1967D2;\n",
              "      --hover-bg-color: #E2EBFA;\n",
              "      --hover-fill-color: #174EA6;\n",
              "      --disabled-fill-color: #AAA;\n",
              "      --disabled-bg-color: #DDD;\n",
              "  }\n",
              "\n",
              "  [theme=dark] .colab-df-quickchart {\n",
              "      --bg-color: #3B4455;\n",
              "      --fill-color: #D2E3FC;\n",
              "      --hover-bg-color: #434B5C;\n",
              "      --hover-fill-color: #FFFFFF;\n",
              "      --disabled-bg-color: #3B4455;\n",
              "      --disabled-fill-color: #666;\n",
              "  }\n",
              "\n",
              "  .colab-df-quickchart {\n",
              "    background-color: var(--bg-color);\n",
              "    border: none;\n",
              "    border-radius: 50%;\n",
              "    cursor: pointer;\n",
              "    display: none;\n",
              "    fill: var(--fill-color);\n",
              "    height: 32px;\n",
              "    padding: 0;\n",
              "    width: 32px;\n",
              "  }\n",
              "\n",
              "  .colab-df-quickchart:hover {\n",
              "    background-color: var(--hover-bg-color);\n",
              "    box-shadow: 0 1px 2px rgba(60, 64, 67, 0.3), 0 1px 3px 1px rgba(60, 64, 67, 0.15);\n",
              "    fill: var(--button-hover-fill-color);\n",
              "  }\n",
              "\n",
              "  .colab-df-quickchart-complete:disabled,\n",
              "  .colab-df-quickchart-complete:disabled:hover {\n",
              "    background-color: var(--disabled-bg-color);\n",
              "    fill: var(--disabled-fill-color);\n",
              "    box-shadow: none;\n",
              "  }\n",
              "\n",
              "  .colab-df-spinner {\n",
              "    border: 2px solid var(--fill-color);\n",
              "    border-color: transparent;\n",
              "    border-bottom-color: var(--fill-color);\n",
              "    animation:\n",
              "      spin 1s steps(1) infinite;\n",
              "  }\n",
              "\n",
              "  @keyframes spin {\n",
              "    0% {\n",
              "      border-color: transparent;\n",
              "      border-bottom-color: var(--fill-color);\n",
              "      border-left-color: var(--fill-color);\n",
              "    }\n",
              "    20% {\n",
              "      border-color: transparent;\n",
              "      border-left-color: var(--fill-color);\n",
              "      border-top-color: var(--fill-color);\n",
              "    }\n",
              "    30% {\n",
              "      border-color: transparent;\n",
              "      border-left-color: var(--fill-color);\n",
              "      border-top-color: var(--fill-color);\n",
              "      border-right-color: var(--fill-color);\n",
              "    }\n",
              "    40% {\n",
              "      border-color: transparent;\n",
              "      border-right-color: var(--fill-color);\n",
              "      border-top-color: var(--fill-color);\n",
              "    }\n",
              "    60% {\n",
              "      border-color: transparent;\n",
              "      border-right-color: var(--fill-color);\n",
              "    }\n",
              "    80% {\n",
              "      border-color: transparent;\n",
              "      border-right-color: var(--fill-color);\n",
              "      border-bottom-color: var(--fill-color);\n",
              "    }\n",
              "    90% {\n",
              "      border-color: transparent;\n",
              "      border-bottom-color: var(--fill-color);\n",
              "    }\n",
              "  }\n",
              "</style>\n",
              "\n",
              "  <script>\n",
              "    async function quickchart(key) {\n",
              "      const quickchartButtonEl =\n",
              "        document.querySelector('#' + key + ' button');\n",
              "      quickchartButtonEl.disabled = true;  // To prevent multiple clicks.\n",
              "      quickchartButtonEl.classList.add('colab-df-spinner');\n",
              "      try {\n",
              "        const charts = await google.colab.kernel.invokeFunction(\n",
              "            'suggestCharts', [key], {});\n",
              "      } catch (error) {\n",
              "        console.error('Error during call to suggestCharts:', error);\n",
              "      }\n",
              "      quickchartButtonEl.classList.remove('colab-df-spinner');\n",
              "      quickchartButtonEl.classList.add('colab-df-quickchart-complete');\n",
              "    }\n",
              "    (() => {\n",
              "      let quickchartButtonEl =\n",
              "        document.querySelector('#df-6cae036a-b3fb-4f42-be67-2c49d12fa64a button');\n",
              "      quickchartButtonEl.style.display =\n",
              "        google.colab.kernel.accessAllowed ? 'block' : 'none';\n",
              "    })();\n",
              "  </script>\n",
              "</div>\n",
              "    </div>\n",
              "  </div>\n"
            ],
            "application/vnd.google.colaboratory.intrinsic+json": {
              "type": "dataframe",
              "variable_name": "results_df",
              "summary": "{\n  \"name\": \"results_df\",\n  \"rows\": 3,\n  \"fields\": [\n    {\n      \"column\": \"Persentase Outliers\",\n      \"properties\": {\n        \"dtype\": \"number\",\n        \"std\": 11.245147101453734,\n        \"min\": 0.0,\n        \"max\": 20.4,\n        \"num_unique_values\": 3,\n        \"samples\": [\n          2.0,\n          20.4,\n          0.0\n        ],\n        \"semantic_type\": \"\",\n        \"description\": \"\"\n      }\n    }\n  ]\n}"
            }
          },
          "metadata": {}
        }
      ]
    },
    {
      "cell_type": "markdown",
      "source": [
        "Berdasarkan informasi di atas, didapatkan hasil sebagai berikut.\n",
        "*   Kolom Year of release memiliki outlier sebesar 2%.\n",
        "* Kolom Number of Episodes memiliki oulier sebesar 20,4%.\n",
        "* Kolom Rating memiliki outlier sebesar 0%."
      ],
      "metadata": {
        "id": "qPUOYdC7D1Ys"
      }
    },
    {
      "cell_type": "code",
      "source": [
        "for col in df.select_dtypes(include=['number']):\n",
        "    q1 = df[col].quantile(0.25)\n",
        "    q3 = df[col].quantile(0.75)\n",
        "    iqr = q3 - q1\n",
        "\n",
        "    # Batas bawah outlier\n",
        "    lower_bound = q1 - 1.5 * iqr\n",
        "    # Batas atas outlier\n",
        "    upper_bound = q3 + 1.5 * iqr\n",
        "\n",
        "    # Temukan outlier\n",
        "    outliers = df[col][(df[col] < lower_bound) | (df[col] > upper_bound)]\n",
        "\n",
        "    # Cetak informasi outlier\n",
        "    if len(outliers) > 0:\n",
        "        print(f\"Kolom {col}\")\n",
        "        print(f\"Jumlah outlier: {len(outliers)}\")\n",
        "        print(f\"Nilai outlier: {outliers.values}\")\n",
        "    else:\n",
        "        print(f\"Kolom {col}: Tidak ada outlier.\")\n"
      ],
      "metadata": {
        "colab": {
          "base_uri": "https://localhost:8080/"
        },
        "id": "Zu18mbzwCJcF",
        "outputId": "19d79f6c-5a0d-41a0-ba5a-e1b60894760c"
      },
      "execution_count": null,
      "outputs": [
        {
          "output_type": "stream",
          "name": "stdout",
          "text": [
            "Kolom Year of release\n",
            "Jumlah outlier: 5\n",
            "Nilai outlier: [2003 2009 2010 2006 2007]\n",
            "Kolom Number of Episodes\n",
            "Jumlah outlier: 51\n",
            "Nilai outlier: [  8   6   6   6  50  32   6   6  40   8  32  54  28  32  51  52 100  30\n",
            "   6   8  32   9  62  32  40  60  32  32   8  32  32   8  32  32  32  32\n",
            "   4   6   8   1   6  81 133   6  36  32  32  32  40  54  40]\n",
            "Kolom Rating: Tidak ada outlier.\n"
          ]
        }
      ]
    },
    {
      "cell_type": "markdown",
      "source": [
        "Berdasarkan informasi di atas, didapatkan hasil sebagai berikut.\n",
        "*   Kolom Year of release memiliki 5 outlier dengan nilai 2003, 2009, 2010, 2006, dan 2007.\n",
        "*   Kolom Year of release memiliki 51 outlier dengan nilai 8, 6, 6, 6, 50, 32, 6, 6, 40, 8, 32, 54, 28, 32, 51, 52, 100, 30, 6, 8, 32, 9, 62, 32, 40, 60, 32, 32, 8, 32, 32, 8, 32, 32, 32, 32, 4, 6, 8, 1, 6, 81, 133, 6, 36, 32, 32, 32, 40, 54 ,dan 40.\n",
        "*   Kolom Rating tidak memiliki outlier.\n",
        "\n",
        "\n"
      ],
      "metadata": {
        "id": "mUhNM0nTChwP"
      }
    },
    {
      "cell_type": "markdown",
      "source": [
        "### Duplicated Values"
      ],
      "metadata": {
        "id": "OPuZDNmH8DXn"
      }
    },
    {
      "cell_type": "code",
      "source": [
        "# Menentukan kolom\n",
        "columns = df.columns\n",
        "\n",
        "# Mengecek nilai duplikat pada tiap kolom\n",
        "for col in columns:\n",
        "    # Menghitung jumlah nilai duplikat\n",
        "    duplicate_count = df[col].duplicated().sum()\n",
        "\n",
        "    # Menampilkan hasil\n",
        "    if duplicate_count > 0:\n",
        "        print(f\"Kolom {col} memiliki {duplicate_count} nilai duplikat.\")\n",
        "    else:\n",
        "        print(f\"Kolom {col} tidak memiliki nilai duplikat.\")"
      ],
      "metadata": {
        "colab": {
          "base_uri": "https://localhost:8080/"
        },
        "id": "Dz0aYvnzLwue",
        "outputId": "5482797e-37b5-46a1-fefa-494dd1dc16d0"
      },
      "execution_count": null,
      "outputs": [
        {
          "output_type": "stream",
          "name": "stdout",
          "text": [
            "Kolom Name tidak memiliki nilai duplikat.\n",
            "Kolom Aired Date memiliki 2 nilai duplikat.\n",
            "Kolom Year of release memiliki 233 nilai duplikat.\n",
            "Kolom Original Network memiliki 205 nilai duplikat.\n",
            "Kolom Aired On memiliki 229 nilai duplikat.\n",
            "Kolom Number of Episodes memiliki 220 nilai duplikat.\n",
            "Kolom Duration memiliki 212 nilai duplikat.\n",
            "Kolom Content Rating memiliki 245 nilai duplikat.\n",
            "Kolom Rating memiliki 240 nilai duplikat.\n",
            "Kolom Synopsis tidak memiliki nilai duplikat.\n",
            "Kolom Genre memiliki 45 nilai duplikat.\n",
            "Kolom Tags tidak memiliki nilai duplikat.\n",
            "Kolom Director memiliki 65 nilai duplikat.\n",
            "Kolom Screenwriter memiliki 67 nilai duplikat.\n",
            "Kolom Cast memiliki 1 nilai duplikat.\n",
            "Kolom Production companies memiliki 78 nilai duplikat.\n",
            "Kolom Rank tidak memiliki nilai duplikat.\n"
          ]
        }
      ]
    },
    {
      "cell_type": "markdown",
      "source": [
        "Berdasarkan informasi di atas, dapat disimpulkan bahwa:\n",
        "* Kolom Name, Synopsis, Tags, dan Rank tidak memiliki nilai duplikat.\n",
        "* Kolom Aired Date memiliki 2 nilai duplikat.\n",
        "* Kolom Year of release memiliki 233 nilai duplikat.\n",
        "* Kolom Original Network memiliki 205 nilai duplikat.\n",
        "* Kolom Aired On memiliki 229 nilai duplikat.\n",
        "* Kolom Number of Episodes memiliki 220 nilai duplikat.\n",
        "* Kolom Duration memiliki 212 nilai duplikat.\n",
        "* Kolom Content Rating memiliki 245 nilai duplikat.\n",
        "* Kolom Rating memiliki 240 nilai duplikat.\n",
        "* Kolom Genre memiliki 45 nilai duplikat.\n",
        "* Kolom Director memiliki 65 nilai duplikat.\n",
        "* Kolom Screenwriter memiliki 67 nilai duplikat.\n",
        "* Kolom Cast memiliki 1 nilai duplikat.\n",
        "* Kolom Production companies memiliki 78 nilai duplikat."
      ],
      "metadata": {
        "id": "XBheuvD0MCtC"
      }
    },
    {
      "cell_type": "markdown",
      "source": [
        "### Inconsistent values/Noise"
      ],
      "metadata": {
        "id": "hJnNJVLPFVk7"
      }
    },
    {
      "cell_type": "code",
      "source": [
        "# Menentukan kolom numerik\n",
        "numeric_columns = df.select_dtypes(include=['number']).columns.tolist()\n",
        "\n",
        "# Inisialisasi dictionary untuk menyimpan jumlah data noise\n",
        "noise_counts = {}\n",
        "\n",
        "# Memeriksa nilai yang tidak terduga (misalnya, nilai negatif untuk rating)\n",
        "for col in numeric_columns:\n",
        "    if col in ['MyDramaList Score', 'IMDb Score']:\n",
        "        # Memeriksa nilai negatif\n",
        "        noise_counts[col] = (df[col] < 0).sum()\n",
        "    else:\n",
        "        # Memeriksa nilai yang tidak masuk akal (misalnya, episode > 100)\n",
        "        noise_counts[col] = (df[col] > 100).sum()\n",
        "\n",
        "# Menentukan kolom kategorikal\n",
        "categorical_columns = df.select_dtypes(include=['object', 'category']).columns.tolist()\n",
        "\n",
        "# Memeriksa nilai yang tidak terduga (misalnya, genre yang tidak valid)\n",
        "for col in categorical_columns:\n",
        "    # Menghitung frekuensi setiap nilai\n",
        "    value_counts = df[col].value_counts()\n",
        "\n",
        "    # Menambahkan jumlah nilai yang tidak umum ke dictionary\n",
        "    noise_counts[col] = 0\n",
        "    for value, count in value_counts.items():\n",
        "        if count < 5:\n",
        "            noise_counts[col] += count\n",
        "\n",
        "# Menampilkan jumlah data noise pada tiap kolom\n",
        "for col, count in noise_counts.items():\n",
        "    print(f\"Kolom {col}: {count}\")"
      ],
      "metadata": {
        "colab": {
          "base_uri": "https://localhost:8080/"
        },
        "id": "ponJjKILHOmI",
        "outputId": "34b862d7-3f70-4112-cf11-7dce56b647df"
      },
      "execution_count": null,
      "outputs": [
        {
          "output_type": "stream",
          "name": "stdout",
          "text": [
            "Kolom Year of release: 250\n",
            "Kolom Number of Episodes: 1\n",
            "Kolom Rating: 0\n",
            "Kolom Name: 250\n",
            "Kolom Aired Date: 250\n",
            "Kolom Original Network: 50\n",
            "Kolom Aired On: 19\n",
            "Kolom Duration: 59\n",
            "Kolom Content Rating: 1\n",
            "Kolom Synopsis: 250\n",
            "Kolom Genre: 250\n",
            "Kolom Tags: 250\n",
            "Kolom Director: 244\n",
            "Kolom Screenwriter: 237\n",
            "Kolom Cast: 250\n",
            "Kolom Production companies: 205\n",
            "Kolom Rank: 250\n"
          ]
        }
      ]
    },
    {
      "cell_type": "markdown",
      "source": [
        "Berdasarkan informasi di atas, dataset ini memiliki banyak inconsistent values yang berarti setiap data (nilai) yang ada selalu berbeda-beda walaupun berada di kolom yang sama."
      ],
      "metadata": {
        "id": "jEaZcTxcIWAX"
      }
    }
  ]
}